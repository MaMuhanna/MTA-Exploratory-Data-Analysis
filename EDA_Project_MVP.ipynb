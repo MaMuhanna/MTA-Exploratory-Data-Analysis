{
 "cells": [
  {
   "cell_type": "markdown",
   "id": "3cf15579",
   "metadata": {},
   "source": [
    "# MTA Exploratory Data Analysis"
   ]
  },
  {
   "cell_type": "markdown",
   "id": "44fe6a16",
   "metadata": {},
   "source": [
    "## Introduction\n",
    "\n",
    "> a lot of people in New York using The Metropolitan Transportation subways as main way for transportation. The MTA says that it is serving a population of 15.3 million people across a 5,000-square-mile travel area surrounding New York City through Long Island, southeastern New York State, and Connecticut. So it has a huge amount of traffic daily. So from that traffic the advertising companies will not miss that so when you enter any subway station you will notice there are many and huge billboards every where in the station."
   ]
  },
  {
   "cell_type": "markdown",
   "id": "48caa020",
   "metadata": {},
   "source": [
    "## Problem \n",
    "\n",
    "> The problem here that these advertisement methods are old and not compatible with the traffic and what are they interested on."
   ]
  },
  {
   "cell_type": "markdown",
   "id": "0a71ea5b",
   "metadata": {},
   "source": [
    "## My Solution \n",
    "\n",
    "> I will analyze data to investigate if there are some patterns from the visitors to the MTA stations. To have better billboards and to have compatible advertisements to the people and to know what the value of the billboard and how many people is will see it."
   ]
  },
  {
   "cell_type": "markdown",
   "id": "eb4b7f05",
   "metadata": {},
   "source": [
    "## Data Wrangling "
   ]
  },
  {
   "cell_type": "markdown",
   "id": "64cf00d4",
   "metadata": {},
   "source": [
    "> I Will using the datasets from The Metropolitan Authority website ((http://web.mta.info/developers/turnstile.html) and they are publish every week their turnstiles data it has 8 columns i will take the last 3 months . <br>\n",
    ">> ▪ C/A: Control Area <br>\n",
    "▪ UNIT: Remote Unit for a station <br>\n",
    "▪ SCP: Subunit Channel Position represents a specific address for a device <br>\n",
    "▪ STATION: Represents the station name the device is located at <br>\n",
    "▪ LINE NAME: Represents all train lines that can be boarded at this station <br>\n",
    "▪ DIVISION: Represents the Line originally the station belonged to <br>\n",
    "▪ DATE: Represents the date in (MM-DD-YY) format <br>\n",
    "▪ TIME: Represents the time (hh:mm:ss) for a scheduled audit event <br>\n",
    "▪ DESC: Represent the \"REGULAR\" scheduled audit event <br>\n",
    "▪ ENTRIES: The cumulative entry register value for a device <br>\n",
    "▪ EXITS: The cumulative exit register value for a device <br>"
   ]
  },
  {
   "cell_type": "code",
   "execution_count": 1,
   "id": "6c76e8fb",
   "metadata": {},
   "outputs": [],
   "source": [
    "# import all packages and set plots to be embedded inline\n",
    "import numpy as np\n",
    "import pandas as pd\n",
    "import matplotlib.pyplot as plt\n",
    "import seaborn as sns\n",
    "\n",
    "%matplotlib inline"
   ]
  },
  {
   "cell_type": "code",
   "execution_count": 2,
   "id": "93ffd57e",
   "metadata": {},
   "outputs": [],
   "source": [
    "# Source: http://web.mta.info/developers/turnstile.html\n",
    "def get_data(week_nums):\n",
    "    url = \"http://web.mta.info/developers/data/nyct/turnstile/turnstile_{}.txt\"\n",
    "    dfs = []\n",
    "    for week_num in week_nums:\n",
    "        file_url = url.format(week_num)\n",
    "        dfs.append(pd.read_csv(file_url))\n",
    "    return pd.concat(dfs)\n",
    "        \n",
    "week_nums = [210605, 210612, 210619, 210626, 210703, 210710, 210717, 210724, 210731, 210807, 210814, 210821, 210828]\n",
    "turnstiles_df = get_data(week_nums)"
   ]
  },
  {
   "cell_type": "code",
   "execution_count": 3,
   "id": "6a62c4e0",
   "metadata": {},
   "outputs": [
    {
     "data": {
      "text/html": [
       "<div>\n",
       "<style scoped>\n",
       "    .dataframe tbody tr th:only-of-type {\n",
       "        vertical-align: middle;\n",
       "    }\n",
       "\n",
       "    .dataframe tbody tr th {\n",
       "        vertical-align: top;\n",
       "    }\n",
       "\n",
       "    .dataframe thead th {\n",
       "        text-align: right;\n",
       "    }\n",
       "</style>\n",
       "<table border=\"1\" class=\"dataframe\">\n",
       "  <thead>\n",
       "    <tr style=\"text-align: right;\">\n",
       "      <th></th>\n",
       "      <th>C/A</th>\n",
       "      <th>UNIT</th>\n",
       "      <th>SCP</th>\n",
       "      <th>STATION</th>\n",
       "      <th>LINENAME</th>\n",
       "      <th>DIVISION</th>\n",
       "      <th>DATE</th>\n",
       "      <th>TIME</th>\n",
       "      <th>DESC</th>\n",
       "      <th>ENTRIES</th>\n",
       "      <th>EXITS</th>\n",
       "    </tr>\n",
       "  </thead>\n",
       "  <tbody>\n",
       "    <tr>\n",
       "      <th>0</th>\n",
       "      <td>A002</td>\n",
       "      <td>R051</td>\n",
       "      <td>02-00-00</td>\n",
       "      <td>59 ST</td>\n",
       "      <td>NQR456W</td>\n",
       "      <td>BMT</td>\n",
       "      <td>05/29/2021</td>\n",
       "      <td>00:00:00</td>\n",
       "      <td>REGULAR</td>\n",
       "      <td>7578734</td>\n",
       "      <td>2590325</td>\n",
       "    </tr>\n",
       "    <tr>\n",
       "      <th>1</th>\n",
       "      <td>A002</td>\n",
       "      <td>R051</td>\n",
       "      <td>02-00-00</td>\n",
       "      <td>59 ST</td>\n",
       "      <td>NQR456W</td>\n",
       "      <td>BMT</td>\n",
       "      <td>05/29/2021</td>\n",
       "      <td>04:00:00</td>\n",
       "      <td>REGULAR</td>\n",
       "      <td>7578740</td>\n",
       "      <td>2590327</td>\n",
       "    </tr>\n",
       "    <tr>\n",
       "      <th>2</th>\n",
       "      <td>A002</td>\n",
       "      <td>R051</td>\n",
       "      <td>02-00-00</td>\n",
       "      <td>59 ST</td>\n",
       "      <td>NQR456W</td>\n",
       "      <td>BMT</td>\n",
       "      <td>05/29/2021</td>\n",
       "      <td>08:00:00</td>\n",
       "      <td>REGULAR</td>\n",
       "      <td>7578749</td>\n",
       "      <td>2590340</td>\n",
       "    </tr>\n",
       "    <tr>\n",
       "      <th>3</th>\n",
       "      <td>A002</td>\n",
       "      <td>R051</td>\n",
       "      <td>02-00-00</td>\n",
       "      <td>59 ST</td>\n",
       "      <td>NQR456W</td>\n",
       "      <td>BMT</td>\n",
       "      <td>05/29/2021</td>\n",
       "      <td>12:00:00</td>\n",
       "      <td>REGULAR</td>\n",
       "      <td>7578789</td>\n",
       "      <td>2590386</td>\n",
       "    </tr>\n",
       "    <tr>\n",
       "      <th>4</th>\n",
       "      <td>A002</td>\n",
       "      <td>R051</td>\n",
       "      <td>02-00-00</td>\n",
       "      <td>59 ST</td>\n",
       "      <td>NQR456W</td>\n",
       "      <td>BMT</td>\n",
       "      <td>05/29/2021</td>\n",
       "      <td>16:00:00</td>\n",
       "      <td>REGULAR</td>\n",
       "      <td>7578897</td>\n",
       "      <td>2590418</td>\n",
       "    </tr>\n",
       "  </tbody>\n",
       "</table>\n",
       "</div>"
      ],
      "text/plain": [
       "    C/A  UNIT       SCP STATION LINENAME DIVISION        DATE      TIME  \\\n",
       "0  A002  R051  02-00-00   59 ST  NQR456W      BMT  05/29/2021  00:00:00   \n",
       "1  A002  R051  02-00-00   59 ST  NQR456W      BMT  05/29/2021  04:00:00   \n",
       "2  A002  R051  02-00-00   59 ST  NQR456W      BMT  05/29/2021  08:00:00   \n",
       "3  A002  R051  02-00-00   59 ST  NQR456W      BMT  05/29/2021  12:00:00   \n",
       "4  A002  R051  02-00-00   59 ST  NQR456W      BMT  05/29/2021  16:00:00   \n",
       "\n",
       "      DESC  ENTRIES  \\\n",
       "0  REGULAR  7578734   \n",
       "1  REGULAR  7578740   \n",
       "2  REGULAR  7578749   \n",
       "3  REGULAR  7578789   \n",
       "4  REGULAR  7578897   \n",
       "\n",
       "   EXITS                                                                 \n",
       "0                                            2590325                     \n",
       "1                                            2590327                     \n",
       "2                                            2590340                     \n",
       "3                                            2590386                     \n",
       "4                                            2590418                     "
      ]
     },
     "execution_count": 3,
     "metadata": {},
     "output_type": "execute_result"
    }
   ],
   "source": [
    "turnstiles_df.head()"
   ]
  },
  {
   "cell_type": "markdown",
   "id": "a97e5dc7",
   "metadata": {},
   "source": [
    "## Assessing Data"
   ]
  },
  {
   "cell_type": "code",
   "execution_count": 4,
   "id": "cad2acef",
   "metadata": {
    "scrolled": true
   },
   "outputs": [
    {
     "data": {
      "text/plain": [
       "['C/A',\n",
       " 'UNIT',\n",
       " 'SCP',\n",
       " 'STATION',\n",
       " 'LINENAME',\n",
       " 'DIVISION',\n",
       " 'DATE',\n",
       " 'TIME',\n",
       " 'DESC',\n",
       " 'ENTRIES',\n",
       " 'EXITS                                                               ']"
      ]
     },
     "execution_count": 4,
     "metadata": {},
     "output_type": "execute_result"
    }
   ],
   "source": [
    "# Here we will list the columns \n",
    "list(turnstiles_df) "
   ]
  },
  {
   "cell_type": "code",
   "execution_count": 5,
   "id": "dca8b197",
   "metadata": {},
   "outputs": [
    {
     "data": {
      "text/plain": [
       "(2722610, 11)"
      ]
     },
     "execution_count": 5,
     "metadata": {},
     "output_type": "execute_result"
    }
   ],
   "source": [
    "# shape of the data\n",
    "turnstiles_df.shape"
   ]
  },
  {
   "cell_type": "code",
   "execution_count": 6,
   "id": "3d9dfec6",
   "metadata": {},
   "outputs": [
    {
     "name": "stdout",
     "output_type": "stream",
     "text": [
      "<class 'pandas.core.frame.DataFrame'>\n",
      "Int64Index: 2722610 entries, 0 to 209067\n",
      "Data columns (total 11 columns):\n",
      " #   Column                                                                Non-Null Count    Dtype \n",
      "---  ------                                                                --------------    ----- \n",
      " 0   C/A                                                                   2722610 non-null  object\n",
      " 1   UNIT                                                                  2722610 non-null  object\n",
      " 2   SCP                                                                   2722610 non-null  object\n",
      " 3   STATION                                                               2722610 non-null  object\n",
      " 4   LINENAME                                                              2722610 non-null  object\n",
      " 5   DIVISION                                                              2722610 non-null  object\n",
      " 6   DATE                                                                  2722610 non-null  object\n",
      " 7   TIME                                                                  2722610 non-null  object\n",
      " 8   DESC                                                                  2722610 non-null  object\n",
      " 9   ENTRIES                                                               2722610 non-null  int64 \n",
      " 10  EXITS                                                                 2722610 non-null  int64 \n",
      "dtypes: int64(2), object(9)\n",
      "memory usage: 249.3+ MB\n"
     ]
    },
    {
     "name": "stderr",
     "output_type": "stream",
     "text": [
      "<ipython-input-6-aaf6c11ca5e4>:1: FutureWarning: null_counts is deprecated. Use show_counts instead\n",
      "  turnstiles_df.info(verbose=True, null_counts=True)\n"
     ]
    }
   ],
   "source": [
    "turnstiles_df.info(verbose=True, null_counts=True)"
   ]
  },
  {
   "cell_type": "code",
   "execution_count": 7,
   "id": "68b1483a",
   "metadata": {},
   "outputs": [
    {
     "data": {
      "text/plain": [
       "C/A                                                                     0\n",
       "UNIT                                                                    0\n",
       "SCP                                                                     0\n",
       "STATION                                                                 0\n",
       "LINENAME                                                                0\n",
       "DIVISION                                                                0\n",
       "DATE                                                                    0\n",
       "TIME                                                                    0\n",
       "DESC                                                                    0\n",
       "ENTRIES                                                                 0\n",
       "EXITS                                                                   0\n",
       "dtype: int64"
      ]
     },
     "execution_count": 7,
     "metadata": {},
     "output_type": "execute_result"
    }
   ],
   "source": [
    "# Check for null values\n",
    "turnstiles_df.isnull().sum()"
   ]
  },
  {
   "cell_type": "code",
   "execution_count": 8,
   "id": "c26169dc",
   "metadata": {},
   "outputs": [
    {
     "data": {
      "text/html": [
       "<div>\n",
       "<style scoped>\n",
       "    .dataframe tbody tr th:only-of-type {\n",
       "        vertical-align: middle;\n",
       "    }\n",
       "\n",
       "    .dataframe tbody tr th {\n",
       "        vertical-align: top;\n",
       "    }\n",
       "\n",
       "    .dataframe thead th {\n",
       "        text-align: right;\n",
       "    }\n",
       "</style>\n",
       "<table border=\"1\" class=\"dataframe\">\n",
       "  <thead>\n",
       "    <tr style=\"text-align: right;\">\n",
       "      <th></th>\n",
       "      <th>ENTRIES</th>\n",
       "      <th>EXITS</th>\n",
       "    </tr>\n",
       "  </thead>\n",
       "  <tbody>\n",
       "    <tr>\n",
       "      <th>count</th>\n",
       "      <td>2.722610e+06</td>\n",
       "      <td>2.722610e+06</td>\n",
       "    </tr>\n",
       "    <tr>\n",
       "      <th>mean</th>\n",
       "      <td>4.168248e+07</td>\n",
       "      <td>3.329946e+07</td>\n",
       "    </tr>\n",
       "    <tr>\n",
       "      <th>std</th>\n",
       "      <td>2.185146e+08</td>\n",
       "      <td>1.919706e+08</td>\n",
       "    </tr>\n",
       "    <tr>\n",
       "      <th>min</th>\n",
       "      <td>0.000000e+00</td>\n",
       "      <td>0.000000e+00</td>\n",
       "    </tr>\n",
       "    <tr>\n",
       "      <th>25%</th>\n",
       "      <td>2.179232e+05</td>\n",
       "      <td>9.944325e+04</td>\n",
       "    </tr>\n",
       "    <tr>\n",
       "      <th>50%</th>\n",
       "      <td>1.405620e+06</td>\n",
       "      <td>8.552440e+05</td>\n",
       "    </tr>\n",
       "    <tr>\n",
       "      <th>75%</th>\n",
       "      <td>6.023157e+06</td>\n",
       "      <td>3.968192e+06</td>\n",
       "    </tr>\n",
       "    <tr>\n",
       "      <th>max</th>\n",
       "      <td>2.147417e+09</td>\n",
       "      <td>2.122890e+09</td>\n",
       "    </tr>\n",
       "  </tbody>\n",
       "</table>\n",
       "</div>"
      ],
      "text/plain": [
       "            ENTRIES  \\\n",
       "count  2.722610e+06   \n",
       "mean   4.168248e+07   \n",
       "std    2.185146e+08   \n",
       "min    0.000000e+00   \n",
       "25%    2.179232e+05   \n",
       "50%    1.405620e+06   \n",
       "75%    6.023157e+06   \n",
       "max    2.147417e+09   \n",
       "\n",
       "       EXITS                                                                 \n",
       "count                                       2.722610e+06                     \n",
       "mean                                        3.329946e+07                     \n",
       "std                                         1.919706e+08                     \n",
       "min                                         0.000000e+00                     \n",
       "25%                                         9.944325e+04                     \n",
       "50%                                         8.552440e+05                     \n",
       "75%                                         3.968192e+06                     \n",
       "max                                         2.122890e+09                     "
      ]
     },
     "execution_count": 8,
     "metadata": {},
     "output_type": "execute_result"
    }
   ],
   "source": [
    "turnstiles_df.describe()"
   ]
  },
  {
   "cell_type": "markdown",
   "id": "7cc9ec41",
   "metadata": {},
   "source": [
    "## Data Cleaning \n",
    "\n",
    ">▪ Delete the space from `EXITS       ` column <br>\n",
    "▪ Delete duplicates (drop `RECOVR AUD` from `DESC` column)  <br>\n",
    "▪ Filter the data to only daily entries and exits <br>\n",
    "▪ Add `Daily_entries` coulmn by finding the diffrence from `ENTRIES` column <br> \n",
    "▪ Add `Daily_exits` coulmn by finding the diffrence from `EXITS` column <br> \n",
    "▪ Add `Daily_trafic` coulmn by using `Daily_exits` + `Daily_entries` <br> \n"
   ]
  },
  {
   "cell_type": "code",
   "execution_count": 9,
   "id": "1761e5e9",
   "metadata": {},
   "outputs": [
    {
     "data": {
      "text/plain": [
       "['C/A',\n",
       " 'UNIT',\n",
       " 'SCP',\n",
       " 'STATION',\n",
       " 'LINENAME',\n",
       " 'DIVISION',\n",
       " 'DATE',\n",
       " 'TIME',\n",
       " 'DESC',\n",
       " 'ENTRIES',\n",
       " 'EXITS                                                               ']"
      ]
     },
     "execution_count": 9,
     "metadata": {},
     "output_type": "execute_result"
    }
   ],
   "source": [
    "list(turnstiles_df) "
   ]
  },
  {
   "cell_type": "code",
   "execution_count": 10,
   "id": "6f288895",
   "metadata": {},
   "outputs": [],
   "source": [
    "# Delete the tab from `EXITS       ` column\n",
    "turnstiles_df = turnstiles_df.rename(columns={'EXITS                                                               ':\"EXITS\"})"
   ]
  },
  {
   "cell_type": "code",
   "execution_count": 11,
   "id": "33c301f9",
   "metadata": {},
   "outputs": [
    {
     "data": {
      "text/plain": [
       "['C/A',\n",
       " 'UNIT',\n",
       " 'SCP',\n",
       " 'STATION',\n",
       " 'LINENAME',\n",
       " 'DIVISION',\n",
       " 'DATE',\n",
       " 'TIME',\n",
       " 'DESC',\n",
       " 'ENTRIES',\n",
       " 'EXITS']"
      ]
     },
     "execution_count": 11,
     "metadata": {},
     "output_type": "execute_result"
    }
   ],
   "source": [
    "list(turnstiles_df) "
   ]
  },
  {
   "cell_type": "code",
   "execution_count": 12,
   "id": "fd999d08",
   "metadata": {},
   "outputs": [
    {
     "data": {
      "text/plain": [
       "REGULAR       2710456\n",
       "RECOVR AUD      12154\n",
       "Name: DESC, dtype: int64"
      ]
     },
     "execution_count": 12,
     "metadata": {},
     "output_type": "execute_result"
    }
   ],
   "source": [
    "# Delete duplicates (drop RECOVR AUD from DESC column)\n",
    "turnstiles_df.DESC.value_counts()"
   ]
  },
  {
   "cell_type": "code",
   "execution_count": 13,
   "id": "5bd3712f",
   "metadata": {},
   "outputs": [],
   "source": [
    "turnstiles_df = turnstiles_df[turnstiles_df['DESC'] == 'REGULAR']"
   ]
  },
  {
   "cell_type": "code",
   "execution_count": 14,
   "id": "ecb18996",
   "metadata": {},
   "outputs": [
    {
     "data": {
      "text/plain": [
       "REGULAR    2710456\n",
       "Name: DESC, dtype: int64"
      ]
     },
     "execution_count": 14,
     "metadata": {},
     "output_type": "execute_result"
    }
   ],
   "source": [
    "turnstiles_df.DESC.value_counts()"
   ]
  },
  {
   "cell_type": "code",
   "execution_count": 15,
   "id": "0a3da750",
   "metadata": {},
   "outputs": [],
   "source": [
    "# Filter the data to only daily entries and exits\n",
    "df_daily = (turnstiles_df.groupby([ 'C/A','UNIT','SCP','STATION','DATE']).ENTRIES.max().reset_index())"
   ]
  },
  {
   "cell_type": "code",
   "execution_count": 16,
   "id": "5c23106b",
   "metadata": {},
   "outputs": [],
   "source": [
    "df_daily['EXITS'] = (turnstiles_df.groupby(['C/A','UNIT','SCP','STATION','DATE']).EXITS.max().reset_index().EXITS)"
   ]
  },
  {
   "cell_type": "code",
   "execution_count": 17,
   "id": "906a66d5",
   "metadata": {},
   "outputs": [
    {
     "data": {
      "text/html": [
       "<div>\n",
       "<style scoped>\n",
       "    .dataframe tbody tr th:only-of-type {\n",
       "        vertical-align: middle;\n",
       "    }\n",
       "\n",
       "    .dataframe tbody tr th {\n",
       "        vertical-align: top;\n",
       "    }\n",
       "\n",
       "    .dataframe thead th {\n",
       "        text-align: right;\n",
       "    }\n",
       "</style>\n",
       "<table border=\"1\" class=\"dataframe\">\n",
       "  <thead>\n",
       "    <tr style=\"text-align: right;\">\n",
       "      <th></th>\n",
       "      <th>C/A</th>\n",
       "      <th>UNIT</th>\n",
       "      <th>SCP</th>\n",
       "      <th>STATION</th>\n",
       "      <th>DATE</th>\n",
       "      <th>ENTRIES</th>\n",
       "      <th>EXITS</th>\n",
       "    </tr>\n",
       "  </thead>\n",
       "  <tbody>\n",
       "    <tr>\n",
       "      <th>0</th>\n",
       "      <td>A002</td>\n",
       "      <td>R051</td>\n",
       "      <td>02-00-00</td>\n",
       "      <td>59 ST</td>\n",
       "      <td>05/29/2021</td>\n",
       "      <td>7579021</td>\n",
       "      <td>2590439</td>\n",
       "    </tr>\n",
       "    <tr>\n",
       "      <th>1</th>\n",
       "      <td>A002</td>\n",
       "      <td>R051</td>\n",
       "      <td>02-00-00</td>\n",
       "      <td>59 ST</td>\n",
       "      <td>05/30/2021</td>\n",
       "      <td>7579275</td>\n",
       "      <td>2590548</td>\n",
       "    </tr>\n",
       "    <tr>\n",
       "      <th>2</th>\n",
       "      <td>A002</td>\n",
       "      <td>R051</td>\n",
       "      <td>02-00-00</td>\n",
       "      <td>59 ST</td>\n",
       "      <td>05/31/2021</td>\n",
       "      <td>7579593</td>\n",
       "      <td>2590641</td>\n",
       "    </tr>\n",
       "    <tr>\n",
       "      <th>3</th>\n",
       "      <td>A002</td>\n",
       "      <td>R051</td>\n",
       "      <td>02-00-00</td>\n",
       "      <td>59 ST</td>\n",
       "      <td>06/01/2021</td>\n",
       "      <td>7580178</td>\n",
       "      <td>2590917</td>\n",
       "    </tr>\n",
       "    <tr>\n",
       "      <th>4</th>\n",
       "      <td>A002</td>\n",
       "      <td>R051</td>\n",
       "      <td>02-00-00</td>\n",
       "      <td>59 ST</td>\n",
       "      <td>06/02/2021</td>\n",
       "      <td>7580754</td>\n",
       "      <td>2591200</td>\n",
       "    </tr>\n",
       "  </tbody>\n",
       "</table>\n",
       "</div>"
      ],
      "text/plain": [
       "    C/A  UNIT       SCP STATION        DATE  ENTRIES    EXITS\n",
       "0  A002  R051  02-00-00   59 ST  05/29/2021  7579021  2590439\n",
       "1  A002  R051  02-00-00   59 ST  05/30/2021  7579275  2590548\n",
       "2  A002  R051  02-00-00   59 ST  05/31/2021  7579593  2590641\n",
       "3  A002  R051  02-00-00   59 ST  06/01/2021  7580178  2590917\n",
       "4  A002  R051  02-00-00   59 ST  06/02/2021  7580754  2591200"
      ]
     },
     "execution_count": 17,
     "metadata": {},
     "output_type": "execute_result"
    }
   ],
   "source": [
    "df_daily.head()"
   ]
  },
  {
   "cell_type": "code",
   "execution_count": 18,
   "id": "0c9fb56b",
   "metadata": {},
   "outputs": [
    {
     "data": {
      "text/html": [
       "<div>\n",
       "<style scoped>\n",
       "    .dataframe tbody tr th:only-of-type {\n",
       "        vertical-align: middle;\n",
       "    }\n",
       "\n",
       "    .dataframe tbody tr th {\n",
       "        vertical-align: top;\n",
       "    }\n",
       "\n",
       "    .dataframe thead th {\n",
       "        text-align: right;\n",
       "    }\n",
       "</style>\n",
       "<table border=\"1\" class=\"dataframe\">\n",
       "  <thead>\n",
       "    <tr style=\"text-align: right;\">\n",
       "      <th></th>\n",
       "      <th>C/A</th>\n",
       "      <th>UNIT</th>\n",
       "      <th>SCP</th>\n",
       "      <th>STATION</th>\n",
       "      <th>DATE</th>\n",
       "      <th>ENTRIES</th>\n",
       "      <th>EXITS</th>\n",
       "      <th>DAILY_ENTRIES</th>\n",
       "    </tr>\n",
       "  </thead>\n",
       "  <tbody>\n",
       "    <tr>\n",
       "      <th>0</th>\n",
       "      <td>A002</td>\n",
       "      <td>R051</td>\n",
       "      <td>02-00-00</td>\n",
       "      <td>59 ST</td>\n",
       "      <td>05/29/2021</td>\n",
       "      <td>7579021</td>\n",
       "      <td>2590439</td>\n",
       "      <td>NaN</td>\n",
       "    </tr>\n",
       "    <tr>\n",
       "      <th>1</th>\n",
       "      <td>A002</td>\n",
       "      <td>R051</td>\n",
       "      <td>02-00-00</td>\n",
       "      <td>59 ST</td>\n",
       "      <td>05/30/2021</td>\n",
       "      <td>7579275</td>\n",
       "      <td>2590548</td>\n",
       "      <td>254.0</td>\n",
       "    </tr>\n",
       "    <tr>\n",
       "      <th>2</th>\n",
       "      <td>A002</td>\n",
       "      <td>R051</td>\n",
       "      <td>02-00-00</td>\n",
       "      <td>59 ST</td>\n",
       "      <td>05/31/2021</td>\n",
       "      <td>7579593</td>\n",
       "      <td>2590641</td>\n",
       "      <td>318.0</td>\n",
       "    </tr>\n",
       "    <tr>\n",
       "      <th>3</th>\n",
       "      <td>A002</td>\n",
       "      <td>R051</td>\n",
       "      <td>02-00-00</td>\n",
       "      <td>59 ST</td>\n",
       "      <td>06/01/2021</td>\n",
       "      <td>7580178</td>\n",
       "      <td>2590917</td>\n",
       "      <td>585.0</td>\n",
       "    </tr>\n",
       "    <tr>\n",
       "      <th>4</th>\n",
       "      <td>A002</td>\n",
       "      <td>R051</td>\n",
       "      <td>02-00-00</td>\n",
       "      <td>59 ST</td>\n",
       "      <td>06/02/2021</td>\n",
       "      <td>7580754</td>\n",
       "      <td>2591200</td>\n",
       "      <td>576.0</td>\n",
       "    </tr>\n",
       "  </tbody>\n",
       "</table>\n",
       "</div>"
      ],
      "text/plain": [
       "    C/A  UNIT       SCP STATION        DATE  ENTRIES    EXITS  DAILY_ENTRIES\n",
       "0  A002  R051  02-00-00   59 ST  05/29/2021  7579021  2590439            NaN\n",
       "1  A002  R051  02-00-00   59 ST  05/30/2021  7579275  2590548          254.0\n",
       "2  A002  R051  02-00-00   59 ST  05/31/2021  7579593  2590641          318.0\n",
       "3  A002  R051  02-00-00   59 ST  06/01/2021  7580178  2590917          585.0\n",
       "4  A002  R051  02-00-00   59 ST  06/02/2021  7580754  2591200          576.0"
      ]
     },
     "execution_count": 18,
     "metadata": {},
     "output_type": "execute_result"
    }
   ],
   "source": [
    "# Add Daily_entries coulmn by finding the diffrence from ENTRIES column \n",
    "\n",
    "df_daily['DAILY_ENTRIES']= df_daily['ENTRIES'].diff()\n",
    "\n",
    "df_daily.head()"
   ]
  },
  {
   "cell_type": "code",
   "execution_count": 19,
   "id": "5e033452",
   "metadata": {},
   "outputs": [
    {
     "data": {
      "text/html": [
       "<div>\n",
       "<style scoped>\n",
       "    .dataframe tbody tr th:only-of-type {\n",
       "        vertical-align: middle;\n",
       "    }\n",
       "\n",
       "    .dataframe tbody tr th {\n",
       "        vertical-align: top;\n",
       "    }\n",
       "\n",
       "    .dataframe thead th {\n",
       "        text-align: right;\n",
       "    }\n",
       "</style>\n",
       "<table border=\"1\" class=\"dataframe\">\n",
       "  <thead>\n",
       "    <tr style=\"text-align: right;\">\n",
       "      <th></th>\n",
       "      <th>C/A</th>\n",
       "      <th>UNIT</th>\n",
       "      <th>SCP</th>\n",
       "      <th>STATION</th>\n",
       "      <th>DATE</th>\n",
       "      <th>ENTRIES</th>\n",
       "      <th>EXITS</th>\n",
       "      <th>DAILY_ENTRIES</th>\n",
       "      <th>DAILY_EXITS</th>\n",
       "    </tr>\n",
       "  </thead>\n",
       "  <tbody>\n",
       "    <tr>\n",
       "      <th>0</th>\n",
       "      <td>A002</td>\n",
       "      <td>R051</td>\n",
       "      <td>02-00-00</td>\n",
       "      <td>59 ST</td>\n",
       "      <td>05/29/2021</td>\n",
       "      <td>7579021</td>\n",
       "      <td>2590439</td>\n",
       "      <td>NaN</td>\n",
       "      <td>NaN</td>\n",
       "    </tr>\n",
       "    <tr>\n",
       "      <th>1</th>\n",
       "      <td>A002</td>\n",
       "      <td>R051</td>\n",
       "      <td>02-00-00</td>\n",
       "      <td>59 ST</td>\n",
       "      <td>05/30/2021</td>\n",
       "      <td>7579275</td>\n",
       "      <td>2590548</td>\n",
       "      <td>254.0</td>\n",
       "      <td>109.0</td>\n",
       "    </tr>\n",
       "    <tr>\n",
       "      <th>2</th>\n",
       "      <td>A002</td>\n",
       "      <td>R051</td>\n",
       "      <td>02-00-00</td>\n",
       "      <td>59 ST</td>\n",
       "      <td>05/31/2021</td>\n",
       "      <td>7579593</td>\n",
       "      <td>2590641</td>\n",
       "      <td>318.0</td>\n",
       "      <td>93.0</td>\n",
       "    </tr>\n",
       "    <tr>\n",
       "      <th>3</th>\n",
       "      <td>A002</td>\n",
       "      <td>R051</td>\n",
       "      <td>02-00-00</td>\n",
       "      <td>59 ST</td>\n",
       "      <td>06/01/2021</td>\n",
       "      <td>7580178</td>\n",
       "      <td>2590917</td>\n",
       "      <td>585.0</td>\n",
       "      <td>276.0</td>\n",
       "    </tr>\n",
       "    <tr>\n",
       "      <th>4</th>\n",
       "      <td>A002</td>\n",
       "      <td>R051</td>\n",
       "      <td>02-00-00</td>\n",
       "      <td>59 ST</td>\n",
       "      <td>06/02/2021</td>\n",
       "      <td>7580754</td>\n",
       "      <td>2591200</td>\n",
       "      <td>576.0</td>\n",
       "      <td>283.0</td>\n",
       "    </tr>\n",
       "  </tbody>\n",
       "</table>\n",
       "</div>"
      ],
      "text/plain": [
       "    C/A  UNIT       SCP STATION        DATE  ENTRIES    EXITS  DAILY_ENTRIES  \\\n",
       "0  A002  R051  02-00-00   59 ST  05/29/2021  7579021  2590439            NaN   \n",
       "1  A002  R051  02-00-00   59 ST  05/30/2021  7579275  2590548          254.0   \n",
       "2  A002  R051  02-00-00   59 ST  05/31/2021  7579593  2590641          318.0   \n",
       "3  A002  R051  02-00-00   59 ST  06/01/2021  7580178  2590917          585.0   \n",
       "4  A002  R051  02-00-00   59 ST  06/02/2021  7580754  2591200          576.0   \n",
       "\n",
       "   DAILY_EXITS  \n",
       "0          NaN  \n",
       "1        109.0  \n",
       "2         93.0  \n",
       "3        276.0  \n",
       "4        283.0  "
      ]
     },
     "execution_count": 19,
     "metadata": {},
     "output_type": "execute_result"
    }
   ],
   "source": [
    "# Add Daily_exits coulmn by finding the diffrence from EXITS column\n",
    "df_daily['DAILY_EXITS']= df_daily['EXITS'].diff()\n",
    "df_daily.head()"
   ]
  },
  {
   "cell_type": "code",
   "execution_count": 20,
   "id": "b647272f",
   "metadata": {},
   "outputs": [],
   "source": [
    "# Solve the negetive values on Daily_entries and Daily_exits\n",
    "df_daily['PREV_ENTRIES'] = df_daily['ENTRIES'].shift(1)\n",
    "df_daily['PREV_EXITS'] = df_daily['EXITS'].shift(1)"
   ]
  },
  {
   "cell_type": "code",
   "execution_count": 21,
   "id": "716f5ae6",
   "metadata": {},
   "outputs": [],
   "source": [
    "def get_daily_counts(row, max_counter, name):\n",
    "    counter = row[name] - row[\"PREV_\"+name]\n",
    "    if counter < 0:\n",
    "        # Maybe counter is reversed?\n",
    "        counter = -counter\n",
    "    if counter > max_counter:\n",
    "        # Maybe counter was reset to 0? \n",
    "        counter = min(row[name], row[\"PREV_\"+name])\n",
    "    if counter > max_counter:\n",
    "        # Check it again to make sure we're not still giving a counter that's too big\n",
    "        return 0\n",
    "    return counter\n",
    "\n",
    "df_daily[\"DAILY_ENTRIES\"] = df_daily.apply(get_daily_counts, axis=1, max_counter=500000, name=\"ENTRIES\")\n",
    "df_daily[\"DAILY_EXITS\"] = df_daily.apply(get_daily_counts, axis=1, max_counter=500000, name=\"EXITS\")\n",
    "df_daily.dropna(inplace= True)\n"
   ]
  },
  {
   "cell_type": "markdown",
   "id": "380e821f",
   "metadata": {},
   "source": [
    "Check Results"
   ]
  },
  {
   "cell_type": "code",
   "execution_count": 22,
   "id": "cf9313e1",
   "metadata": {},
   "outputs": [
    {
     "data": {
      "text/html": [
       "<div>\n",
       "<style scoped>\n",
       "    .dataframe tbody tr th:only-of-type {\n",
       "        vertical-align: middle;\n",
       "    }\n",
       "\n",
       "    .dataframe tbody tr th {\n",
       "        vertical-align: top;\n",
       "    }\n",
       "\n",
       "    .dataframe thead th {\n",
       "        text-align: right;\n",
       "    }\n",
       "</style>\n",
       "<table border=\"1\" class=\"dataframe\">\n",
       "  <thead>\n",
       "    <tr style=\"text-align: right;\">\n",
       "      <th></th>\n",
       "      <th>C/A</th>\n",
       "      <th>UNIT</th>\n",
       "      <th>SCP</th>\n",
       "      <th>STATION</th>\n",
       "      <th>DATE</th>\n",
       "      <th>ENTRIES</th>\n",
       "      <th>EXITS</th>\n",
       "      <th>DAILY_ENTRIES</th>\n",
       "      <th>DAILY_EXITS</th>\n",
       "      <th>PREV_ENTRIES</th>\n",
       "      <th>PREV_EXITS</th>\n",
       "    </tr>\n",
       "  </thead>\n",
       "  <tbody>\n",
       "  </tbody>\n",
       "</table>\n",
       "</div>"
      ],
      "text/plain": [
       "Empty DataFrame\n",
       "Columns: [C/A, UNIT, SCP, STATION, DATE, ENTRIES, EXITS, DAILY_ENTRIES, DAILY_EXITS, PREV_ENTRIES, PREV_EXITS]\n",
       "Index: []"
      ]
     },
     "execution_count": 22,
     "metadata": {},
     "output_type": "execute_result"
    }
   ],
   "source": [
    "df_daily[((df_daily.ENTRIES ==0) & (df_daily.DAILY_ENTRIES < 0)) | (df_daily.ENTRIES ==0) & (df_daily.DAILY_EXITS < 0)].head()"
   ]
  },
  {
   "cell_type": "code",
   "execution_count": 23,
   "id": "0820405a",
   "metadata": {},
   "outputs": [
    {
     "data": {
      "text/html": [
       "<div>\n",
       "<style scoped>\n",
       "    .dataframe tbody tr th:only-of-type {\n",
       "        vertical-align: middle;\n",
       "    }\n",
       "\n",
       "    .dataframe tbody tr th {\n",
       "        vertical-align: top;\n",
       "    }\n",
       "\n",
       "    .dataframe thead th {\n",
       "        text-align: right;\n",
       "    }\n",
       "</style>\n",
       "<table border=\"1\" class=\"dataframe\">\n",
       "  <thead>\n",
       "    <tr style=\"text-align: right;\">\n",
       "      <th></th>\n",
       "      <th>C/A</th>\n",
       "      <th>UNIT</th>\n",
       "      <th>SCP</th>\n",
       "      <th>STATION</th>\n",
       "      <th>DATE</th>\n",
       "      <th>ENTRIES</th>\n",
       "      <th>EXITS</th>\n",
       "      <th>DAILY_ENTRIES</th>\n",
       "      <th>DAILY_EXITS</th>\n",
       "      <th>PREV_ENTRIES</th>\n",
       "      <th>PREV_EXITS</th>\n",
       "    </tr>\n",
       "  </thead>\n",
       "  <tbody>\n",
       "  </tbody>\n",
       "</table>\n",
       "</div>"
      ],
      "text/plain": [
       "Empty DataFrame\n",
       "Columns: [C/A, UNIT, SCP, STATION, DATE, ENTRIES, EXITS, DAILY_ENTRIES, DAILY_EXITS, PREV_ENTRIES, PREV_EXITS]\n",
       "Index: []"
      ]
     },
     "execution_count": 23,
     "metadata": {},
     "output_type": "execute_result"
    }
   ],
   "source": [
    "df_daily[((df_daily.ENTRIES != 0) & (df_daily.DAILY_ENTRIES < 0)) | (df_daily.ENTRIES != 0) & (df_daily.DAILY_EXITS < 0)].head()"
   ]
  },
  {
   "cell_type": "code",
   "execution_count": 24,
   "id": "be470b75",
   "metadata": {},
   "outputs": [],
   "source": [
    "# Add Daily_trafic coulmn by using Daily_exits + Daily_entries\n",
    "df_daily['DAILY_TRAFIC']= df_daily['DAILY_ENTRIES'] + df_daily['DAILY_EXITS']"
   ]
  },
  {
   "cell_type": "code",
   "execution_count": 25,
   "id": "f922e4b5",
   "metadata": {},
   "outputs": [],
   "source": [
    "# df_daily.drop(['DAILY_ENTRIES','DAILY_EXITS'],axis=1,inplace=True)"
   ]
  },
  {
   "cell_type": "code",
   "execution_count": 26,
   "id": "052f8219",
   "metadata": {},
   "outputs": [
    {
     "data": {
      "text/html": [
       "<div>\n",
       "<style scoped>\n",
       "    .dataframe tbody tr th:only-of-type {\n",
       "        vertical-align: middle;\n",
       "    }\n",
       "\n",
       "    .dataframe tbody tr th {\n",
       "        vertical-align: top;\n",
       "    }\n",
       "\n",
       "    .dataframe thead th {\n",
       "        text-align: right;\n",
       "    }\n",
       "</style>\n",
       "<table border=\"1\" class=\"dataframe\">\n",
       "  <thead>\n",
       "    <tr style=\"text-align: right;\">\n",
       "      <th></th>\n",
       "      <th>C/A</th>\n",
       "      <th>UNIT</th>\n",
       "      <th>SCP</th>\n",
       "      <th>STATION</th>\n",
       "      <th>DATE</th>\n",
       "      <th>ENTRIES</th>\n",
       "      <th>EXITS</th>\n",
       "      <th>DAILY_ENTRIES</th>\n",
       "      <th>DAILY_EXITS</th>\n",
       "      <th>PREV_ENTRIES</th>\n",
       "      <th>PREV_EXITS</th>\n",
       "      <th>DAILY_TRAFIC</th>\n",
       "    </tr>\n",
       "  </thead>\n",
       "  <tbody>\n",
       "    <tr>\n",
       "      <th>1</th>\n",
       "      <td>A002</td>\n",
       "      <td>R051</td>\n",
       "      <td>02-00-00</td>\n",
       "      <td>59 ST</td>\n",
       "      <td>05/30/2021</td>\n",
       "      <td>7579275</td>\n",
       "      <td>2590548</td>\n",
       "      <td>254.0</td>\n",
       "      <td>109.0</td>\n",
       "      <td>7579021.0</td>\n",
       "      <td>2590439.0</td>\n",
       "      <td>363.0</td>\n",
       "    </tr>\n",
       "    <tr>\n",
       "      <th>2</th>\n",
       "      <td>A002</td>\n",
       "      <td>R051</td>\n",
       "      <td>02-00-00</td>\n",
       "      <td>59 ST</td>\n",
       "      <td>05/31/2021</td>\n",
       "      <td>7579593</td>\n",
       "      <td>2590641</td>\n",
       "      <td>318.0</td>\n",
       "      <td>93.0</td>\n",
       "      <td>7579275.0</td>\n",
       "      <td>2590548.0</td>\n",
       "      <td>411.0</td>\n",
       "    </tr>\n",
       "    <tr>\n",
       "      <th>3</th>\n",
       "      <td>A002</td>\n",
       "      <td>R051</td>\n",
       "      <td>02-00-00</td>\n",
       "      <td>59 ST</td>\n",
       "      <td>06/01/2021</td>\n",
       "      <td>7580178</td>\n",
       "      <td>2590917</td>\n",
       "      <td>585.0</td>\n",
       "      <td>276.0</td>\n",
       "      <td>7579593.0</td>\n",
       "      <td>2590641.0</td>\n",
       "      <td>861.0</td>\n",
       "    </tr>\n",
       "    <tr>\n",
       "      <th>4</th>\n",
       "      <td>A002</td>\n",
       "      <td>R051</td>\n",
       "      <td>02-00-00</td>\n",
       "      <td>59 ST</td>\n",
       "      <td>06/02/2021</td>\n",
       "      <td>7580754</td>\n",
       "      <td>2591200</td>\n",
       "      <td>576.0</td>\n",
       "      <td>283.0</td>\n",
       "      <td>7580178.0</td>\n",
       "      <td>2590917.0</td>\n",
       "      <td>859.0</td>\n",
       "    </tr>\n",
       "    <tr>\n",
       "      <th>5</th>\n",
       "      <td>A002</td>\n",
       "      <td>R051</td>\n",
       "      <td>02-00-00</td>\n",
       "      <td>59 ST</td>\n",
       "      <td>06/03/2021</td>\n",
       "      <td>7581328</td>\n",
       "      <td>2591445</td>\n",
       "      <td>574.0</td>\n",
       "      <td>245.0</td>\n",
       "      <td>7580754.0</td>\n",
       "      <td>2591200.0</td>\n",
       "      <td>819.0</td>\n",
       "    </tr>\n",
       "  </tbody>\n",
       "</table>\n",
       "</div>"
      ],
      "text/plain": [
       "    C/A  UNIT       SCP STATION        DATE  ENTRIES    EXITS  DAILY_ENTRIES  \\\n",
       "1  A002  R051  02-00-00   59 ST  05/30/2021  7579275  2590548          254.0   \n",
       "2  A002  R051  02-00-00   59 ST  05/31/2021  7579593  2590641          318.0   \n",
       "3  A002  R051  02-00-00   59 ST  06/01/2021  7580178  2590917          585.0   \n",
       "4  A002  R051  02-00-00   59 ST  06/02/2021  7580754  2591200          576.0   \n",
       "5  A002  R051  02-00-00   59 ST  06/03/2021  7581328  2591445          574.0   \n",
       "\n",
       "   DAILY_EXITS  PREV_ENTRIES  PREV_EXITS  DAILY_TRAFIC  \n",
       "1        109.0     7579021.0   2590439.0         363.0  \n",
       "2         93.0     7579275.0   2590548.0         411.0  \n",
       "3        276.0     7579593.0   2590641.0         861.0  \n",
       "4        283.0     7580178.0   2590917.0         859.0  \n",
       "5        245.0     7580754.0   2591200.0         819.0  "
      ]
     },
     "execution_count": 26,
     "metadata": {},
     "output_type": "execute_result"
    }
   ],
   "source": [
    "df_daily.head()"
   ]
  },
  {
   "cell_type": "code",
   "execution_count": 27,
   "id": "3dbc26bd",
   "metadata": {},
   "outputs": [],
   "source": [
    "# convert date to day_of_week\n",
    "df_daily['DATE'] = pd.to_datetime(df_daily['DATE'])\n",
    "\n",
    "\n",
    "df_daily['month'] = df_daily['DATE'].apply(lambda x: x.strftime('%B').lower())\n",
    "df_daily['day_of_week'] = df_daily['DATE'].apply(lambda x: x.strftime('%A').lower())"
   ]
  },
  {
   "cell_type": "code",
   "execution_count": 28,
   "id": "16a8cc12",
   "metadata": {},
   "outputs": [],
   "source": [
    "# List of days in order\n",
    "day_order = ['monday', 'tuesday', 'wednesday', 'thursday', 'friday', 'saturday',\n",
    "       'sunday']\n",
    "# create ordered categorical variable\n",
    "df_daily['day_of_week'] = pd.Categorical(df_daily['day_of_week'],\n",
    "                                               categories= day_order,\n",
    "                                               ordered = True)"
   ]
  },
  {
   "cell_type": "markdown",
   "id": "2e5c304f",
   "metadata": {},
   "source": [
    "## Saving the dataset into csv file"
   ]
  },
  {
   "cell_type": "code",
   "execution_count": 29,
   "id": "c5e21dfb",
   "metadata": {},
   "outputs": [],
   "source": [
    "df_daily.to_csv('DAILY_TRAFIC.csv') "
   ]
  },
  {
   "cell_type": "markdown",
   "id": "6f47ac64",
   "metadata": {},
   "source": [
    "## Explatory Data Analysis"
   ]
  },
  {
   "cell_type": "code",
   "execution_count": 30,
   "id": "67700a99",
   "metadata": {},
   "outputs": [],
   "source": [
    "pd.set_option('float_format', '{:f}'.format)"
   ]
  },
  {
   "cell_type": "code",
   "execution_count": 31,
   "id": "e04c26c5",
   "metadata": {},
   "outputs": [],
   "source": [
    "df_station = df_daily.groupby(['STATION']).DAILY_TRAFIC.sum().reset_index().sort_values(['DAILY_TRAFIC'],ascending=False).head()"
   ]
  },
  {
   "cell_type": "code",
   "execution_count": 32,
   "id": "a73f1e70",
   "metadata": {},
   "outputs": [],
   "source": [
    "df_station_tail = df_daily.groupby(['STATION']).DAILY_TRAFIC.sum().reset_index().sort_values(['DAILY_TRAFIC'],ascending=False).tail()"
   ]
  },
  {
   "cell_type": "code",
   "execution_count": 33,
   "id": "fcdd01c7",
   "metadata": {},
   "outputs": [
    {
     "data": {
      "text/plain": [
       "GRD CNTRL-42 ST    1\n",
       "23 ST              1\n",
       "86 ST              1\n",
       "FULTON ST          1\n",
       "34 ST-PENN STA     1\n",
       "Name: STATION, dtype: int64"
      ]
     },
     "execution_count": 33,
     "metadata": {},
     "output_type": "execute_result"
    }
   ],
   "source": [
    "df_station.STATION.value_counts()"
   ]
  },
  {
   "cell_type": "code",
   "execution_count": 34,
   "id": "e4dab96e",
   "metadata": {},
   "outputs": [
    {
     "data": {
      "text/plain": [
       "(454195, 14)"
      ]
     },
     "execution_count": 34,
     "metadata": {},
     "output_type": "execute_result"
    }
   ],
   "source": [
    "df_daily.shape"
   ]
  },
  {
   "cell_type": "code",
   "execution_count": 35,
   "id": "55974fab",
   "metadata": {},
   "outputs": [],
   "source": [
    "# df_station[df_station['DAILY_TRAFIC'] > 1000000]\n",
    "# = df_station[df_station['DAILY_TRAFIC'] < 10000].DAILY_TRAFIC.mean()"
   ]
  },
  {
   "cell_type": "code",
   "execution_count": 36,
   "id": "c81aa99d",
   "metadata": {},
   "outputs": [],
   "source": [
    "# df_station[df_station['DAILY_TRAFIC'] > 100000]"
   ]
  },
  {
   "cell_type": "code",
   "execution_count": 37,
   "id": "07b88428",
   "metadata": {},
   "outputs": [
    {
     "data": {
      "text/html": [
       "<div>\n",
       "<style scoped>\n",
       "    .dataframe tbody tr th:only-of-type {\n",
       "        vertical-align: middle;\n",
       "    }\n",
       "\n",
       "    .dataframe tbody tr th {\n",
       "        vertical-align: top;\n",
       "    }\n",
       "\n",
       "    .dataframe thead th {\n",
       "        text-align: right;\n",
       "    }\n",
       "</style>\n",
       "<table border=\"1\" class=\"dataframe\">\n",
       "  <thead>\n",
       "    <tr style=\"text-align: right;\">\n",
       "      <th></th>\n",
       "      <th>C/A</th>\n",
       "      <th>UNIT</th>\n",
       "      <th>SCP</th>\n",
       "      <th>STATION</th>\n",
       "      <th>DATE</th>\n",
       "      <th>ENTRIES</th>\n",
       "      <th>EXITS</th>\n",
       "      <th>DAILY_ENTRIES</th>\n",
       "      <th>DAILY_EXITS</th>\n",
       "      <th>PREV_ENTRIES</th>\n",
       "      <th>PREV_EXITS</th>\n",
       "      <th>DAILY_TRAFIC</th>\n",
       "      <th>month</th>\n",
       "      <th>day_of_week</th>\n",
       "    </tr>\n",
       "  </thead>\n",
       "  <tbody>\n",
       "    <tr>\n",
       "      <th>1</th>\n",
       "      <td>A002</td>\n",
       "      <td>R051</td>\n",
       "      <td>02-00-00</td>\n",
       "      <td>59 ST</td>\n",
       "      <td>2021-05-30</td>\n",
       "      <td>7579275</td>\n",
       "      <td>2590548</td>\n",
       "      <td>254.000000</td>\n",
       "      <td>109.000000</td>\n",
       "      <td>7579021.000000</td>\n",
       "      <td>2590439.000000</td>\n",
       "      <td>363.000000</td>\n",
       "      <td>may</td>\n",
       "      <td>sunday</td>\n",
       "    </tr>\n",
       "    <tr>\n",
       "      <th>2</th>\n",
       "      <td>A002</td>\n",
       "      <td>R051</td>\n",
       "      <td>02-00-00</td>\n",
       "      <td>59 ST</td>\n",
       "      <td>2021-05-31</td>\n",
       "      <td>7579593</td>\n",
       "      <td>2590641</td>\n",
       "      <td>318.000000</td>\n",
       "      <td>93.000000</td>\n",
       "      <td>7579275.000000</td>\n",
       "      <td>2590548.000000</td>\n",
       "      <td>411.000000</td>\n",
       "      <td>may</td>\n",
       "      <td>monday</td>\n",
       "    </tr>\n",
       "    <tr>\n",
       "      <th>3</th>\n",
       "      <td>A002</td>\n",
       "      <td>R051</td>\n",
       "      <td>02-00-00</td>\n",
       "      <td>59 ST</td>\n",
       "      <td>2021-06-01</td>\n",
       "      <td>7580178</td>\n",
       "      <td>2590917</td>\n",
       "      <td>585.000000</td>\n",
       "      <td>276.000000</td>\n",
       "      <td>7579593.000000</td>\n",
       "      <td>2590641.000000</td>\n",
       "      <td>861.000000</td>\n",
       "      <td>june</td>\n",
       "      <td>tuesday</td>\n",
       "    </tr>\n",
       "    <tr>\n",
       "      <th>4</th>\n",
       "      <td>A002</td>\n",
       "      <td>R051</td>\n",
       "      <td>02-00-00</td>\n",
       "      <td>59 ST</td>\n",
       "      <td>2021-06-02</td>\n",
       "      <td>7580754</td>\n",
       "      <td>2591200</td>\n",
       "      <td>576.000000</td>\n",
       "      <td>283.000000</td>\n",
       "      <td>7580178.000000</td>\n",
       "      <td>2590917.000000</td>\n",
       "      <td>859.000000</td>\n",
       "      <td>june</td>\n",
       "      <td>wednesday</td>\n",
       "    </tr>\n",
       "    <tr>\n",
       "      <th>5</th>\n",
       "      <td>A002</td>\n",
       "      <td>R051</td>\n",
       "      <td>02-00-00</td>\n",
       "      <td>59 ST</td>\n",
       "      <td>2021-06-03</td>\n",
       "      <td>7581328</td>\n",
       "      <td>2591445</td>\n",
       "      <td>574.000000</td>\n",
       "      <td>245.000000</td>\n",
       "      <td>7580754.000000</td>\n",
       "      <td>2591200.000000</td>\n",
       "      <td>819.000000</td>\n",
       "      <td>june</td>\n",
       "      <td>thursday</td>\n",
       "    </tr>\n",
       "  </tbody>\n",
       "</table>\n",
       "</div>"
      ],
      "text/plain": [
       "    C/A  UNIT       SCP STATION       DATE  ENTRIES    EXITS  DAILY_ENTRIES  \\\n",
       "1  A002  R051  02-00-00   59 ST 2021-05-30  7579275  2590548     254.000000   \n",
       "2  A002  R051  02-00-00   59 ST 2021-05-31  7579593  2590641     318.000000   \n",
       "3  A002  R051  02-00-00   59 ST 2021-06-01  7580178  2590917     585.000000   \n",
       "4  A002  R051  02-00-00   59 ST 2021-06-02  7580754  2591200     576.000000   \n",
       "5  A002  R051  02-00-00   59 ST 2021-06-03  7581328  2591445     574.000000   \n",
       "\n",
       "   DAILY_EXITS   PREV_ENTRIES     PREV_EXITS  DAILY_TRAFIC month day_of_week  \n",
       "1   109.000000 7579021.000000 2590439.000000    363.000000   may      sunday  \n",
       "2    93.000000 7579275.000000 2590548.000000    411.000000   may      monday  \n",
       "3   276.000000 7579593.000000 2590641.000000    861.000000  june     tuesday  \n",
       "4   283.000000 7580178.000000 2590917.000000    859.000000  june   wednesday  \n",
       "5   245.000000 7580754.000000 2591200.000000    819.000000  june    thursday  "
      ]
     },
     "execution_count": 37,
     "metadata": {},
     "output_type": "execute_result"
    }
   ],
   "source": [
    "df_daily.head()"
   ]
  },
  {
   "cell_type": "code",
   "execution_count": 38,
   "id": "c1a7e68a",
   "metadata": {},
   "outputs": [
    {
     "data": {
      "image/png": "[encoded data removed]",
      "text/plain": [
       "<Figure size 576x576 with 1 Axes>"
      ]
     },
     "metadata": {
      "needs_background": "light"
     },
     "output_type": "display_data"
    }
   ],
   "source": [
    "plt.figure(figsize = [8,8]);\n",
    "axx = sns.barplot(data=df_daily,x='day_of_week',y='DAILY_TRAFIC'\n",
    " , ci=None);\n",
    "plt.xlabel('Days');\n",
    "plt.ylabel('# of Raiders');\n",
    "plt.title('# of Raiders against weekDays ');\n",
    "plt.xticks(rotation = 0);"
   ]
  },
  {
   "cell_type": "code",
   "execution_count": 42,
   "id": "f27593ef",
   "metadata": {},
   "outputs": [
    {
     "data": {
      "image/png": "[encoded data removed]",
      "text/plain": [
       "<Figure size 576x576 with 1 Axes>"
      ]
     },
     "metadata": {
      "needs_background": "light"
     },
     "output_type": "display_data"
    }
   ],
   "source": [
    "plt.figure(figsize = [8,8]);\n",
    "ax1 = sns.barplot(data=df_station,x='STATION',y='DAILY_TRAFIC'\n",
    " , ci=None);\n",
    "# ax2 = sns.barplot(data=df_station_tail,x='STATION',y='DAILY_TRAFIC'\n",
    "#  , ci=None);\n",
    "plt.xlabel('Station');\n",
    "plt.ylabel('# of Raiders');\n",
    "plt.title('# of Raiders VS Top 5 Station ');\n",
    "plt.xticks(rotation = 0);"
   ]
  },
  {
   "cell_type": "code",
   "execution_count": 44,
   "id": "f2a4de28",
   "metadata": {},
   "outputs": [
    {
     "data": {
      "image/png": "[encoded data removed]",
      "text/plain": [
       "<Figure size 1440x288 with 2 Axes>"
      ]
     },
     "metadata": {
      "needs_background": "light"
     },
     "output_type": "display_data"
    }
   ],
   "source": [
    "fig, (ax1, ax2) = plt.subplots(1, 2)\n",
    "fig.set_figwidth(20)\n",
    "ax1.set_title(\"# of Raiders VS Top 5 Station\")\n",
    "ax1 = sns.barplot(data=df_station,x='STATION',y='DAILY_TRAFIC', ci=None);\n",
    "ax2.set_title(\"# of Raiders VS Bottom 5 Station\")\n",
    "ax2 = sns.barplot(data=df_station_tail,x='STATION',y='DAILY_TRAFIC'\n",
    " , ci=None);\n",
    "plt.show()"
   ]
  },
  {
   "cell_type": "code",
   "execution_count": null,
   "id": "513a05cb",
   "metadata": {},
   "outputs": [],
   "source": []
  }
 ],
 "metadata": {
  "kernelspec": {
   "display_name": "Python 3",
   "language": "python",
   "name": "python3"
  },
  "language_info": {
   "codemirror_mode": {
    "name": "ipython",
    "version": 3
   },
   "file_extension": ".py",
   "mimetype": "text/x-python",
   "name": "python",
   "nbconvert_exporter": "python",
   "pygments_lexer": "ipython3",
   "version": "3.8.8"
  }
 },
 "nbformat": 4,
 "nbformat_minor": 5
}

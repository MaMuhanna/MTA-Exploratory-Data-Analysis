{
 "cells": [
  {
   "cell_type": "markdown",
   "id": "3cf15579",
   "metadata": {},
   "source": [
    "# MTA Exploratory Data Analysis"
   ]
  },
  {
   "cell_type": "markdown",
   "id": "44fe6a16",
   "metadata": {},
   "source": [
    "## Introduction\n",
    "\n",
    "> a lot of people in New York using The Metropolitan Transportation subways as main way for transportation. The MTA says that it is serving a population of 15.3 million people across a 5,000-square-mile travel area surrounding New York City through Long Island, southeastern New York State, and Connecticut. So it has a huge amount of traffic daily. So from that traffic the advertising companies will not miss that so when you enter any subway station you will notice there are many and huge billboards every where in the station."
   ]
  },
  {
   "cell_type": "markdown",
   "id": "d555d4c1",
   "metadata": {},
   "source": [
    "## Problem \n",
    "\n",
    "> The problem here that these advertisement methods are old and not compatible with the traffic and what are they interested on."
   ]
  },
  {
   "cell_type": "markdown",
   "id": "6abd9fc0",
   "metadata": {},
   "source": [
    "## My Solution \n",
    "\n",
    "> I will analyze data to investigate if there are some patterns from the visitors to the MTA stations. To have better billboards and to have compatible advertisements to the people and to know what the value of the billboard and how many people is will see it."
   ]
  },
  {
   "cell_type": "markdown",
   "id": "95804118",
   "metadata": {},
   "source": [
    "## Data Wrangling "
   ]
  },
  {
   "cell_type": "markdown",
   "id": "cd3b6536",
   "metadata": {},
   "source": [
    "> I Will using the datasets from The Metropolitan Authority website ((http://web.mta.info/developers/turnstile.html) and they are publish every week their turnstiles data it has 8 columns i will take the last 3 months . <br>\n",
    ">> ▪ C/A: Control Area <br>\n",
    "▪ UNIT: Remote Unit for a station <br>\n",
    "▪ SCP: Subunit Channel Position represents a specific address for a device <br>\n",
    "▪ STATION: Represents the station name the device is located at <br>\n",
    "▪ LINE NAME: Represents all train lines that can be boarded at this station <br>\n",
    "▪ DIVISION: Represents the Line originally the station belonged to <br>\n",
    "▪ DATE: Represents the date in (MM-DD-YY) format <br>\n",
    "▪ TIME: Represents the time (hh:mm:ss) for a scheduled audit event <br>\n",
    "▪ DESC: Represent the \"REGULAR\" scheduled audit event <br>\n",
    "▪ ENTRIES: The cumulative entry register value for a device <br>\n",
    "▪ EXITS: The cumulative exit register value for a device <br>"
   ]
  },
  {
   "cell_type": "code",
   "execution_count": 1,
   "id": "602e7cd2",
   "metadata": {},
   "outputs": [],
   "source": [
    "# import all packages and set plots to be embedded inline\n",
    "import numpy as np\n",
    "import pandas as pd\n",
    "import matplotlib.pyplot as plt\n",
    "import seaborn as sns\n",
    "from matplotlib.ticker import MaxNLocator\n",
    "from matplotlib.ticker import FormatStrFormatter\n",
    "import matplotlib.dates as mdates\n",
    "\n",
    "%matplotlib inline"
   ]
  },
  {
   "cell_type": "code",
   "execution_count": 3,
   "id": "228bb6f6",
   "metadata": {},
   "outputs": [],
   "source": [
    "# Source: http://web.mta.info/developers/turnstile.html\n",
    "def get_data(week_nums):\n",
    "    url = \"http://web.mta.info/developers/data/nyct/turnstile/turnstile_{}.txt\"\n",
    "    dfs = []\n",
    "    for week_num in week_nums:\n",
    "        file_url = url.format(week_num)\n",
    "        dfs.append(pd.read_csv(file_url))\n",
    "    return pd.concat(dfs)\n",
    "        \n",
    "week_nums = [210605, 210612, 210619, 210626, 210703, 210710, 210717, 210724, 210731, 210807, 210814, 210821, 210828]\n",
    "\n",
    "turnstiles_df = get_data(week_nums)"
   ]
  },
  {
   "cell_type": "code",
   "execution_count": 4,
   "id": "23989736",
   "metadata": {},
   "outputs": [
    {
     "data": {
      "text/html": [
       "<div>\n",
       "<style scoped>\n",
       "    .dataframe tbody tr th:only-of-type {\n",
       "        vertical-align: middle;\n",
       "    }\n",
       "\n",
       "    .dataframe tbody tr th {\n",
       "        vertical-align: top;\n",
       "    }\n",
       "\n",
       "    .dataframe thead th {\n",
       "        text-align: right;\n",
       "    }\n",
       "</style>\n",
       "<table border=\"1\" class=\"dataframe\">\n",
       "  <thead>\n",
       "    <tr style=\"text-align: right;\">\n",
       "      <th></th>\n",
       "      <th>C/A</th>\n",
       "      <th>UNIT</th>\n",
       "      <th>SCP</th>\n",
       "      <th>STATION</th>\n",
       "      <th>LINENAME</th>\n",
       "      <th>DIVISION</th>\n",
       "      <th>DATE</th>\n",
       "      <th>TIME</th>\n",
       "      <th>DESC</th>\n",
       "      <th>ENTRIES</th>\n",
       "      <th>EXITS</th>\n",
       "    </tr>\n",
       "  </thead>\n",
       "  <tbody>\n",
       "    <tr>\n",
       "      <th>0</th>\n",
       "      <td>A002</td>\n",
       "      <td>R051</td>\n",
       "      <td>02-00-00</td>\n",
       "      <td>59 ST</td>\n",
       "      <td>NQR456W</td>\n",
       "      <td>BMT</td>\n",
       "      <td>05/29/2021</td>\n",
       "      <td>00:00:00</td>\n",
       "      <td>REGULAR</td>\n",
       "      <td>7578734</td>\n",
       "      <td>2590325</td>\n",
       "    </tr>\n",
       "    <tr>\n",
       "      <th>1</th>\n",
       "      <td>A002</td>\n",
       "      <td>R051</td>\n",
       "      <td>02-00-00</td>\n",
       "      <td>59 ST</td>\n",
       "      <td>NQR456W</td>\n",
       "      <td>BMT</td>\n",
       "      <td>05/29/2021</td>\n",
       "      <td>04:00:00</td>\n",
       "      <td>REGULAR</td>\n",
       "      <td>7578740</td>\n",
       "      <td>2590327</td>\n",
       "    </tr>\n",
       "    <tr>\n",
       "      <th>2</th>\n",
       "      <td>A002</td>\n",
       "      <td>R051</td>\n",
       "      <td>02-00-00</td>\n",
       "      <td>59 ST</td>\n",
       "      <td>NQR456W</td>\n",
       "      <td>BMT</td>\n",
       "      <td>05/29/2021</td>\n",
       "      <td>08:00:00</td>\n",
       "      <td>REGULAR</td>\n",
       "      <td>7578749</td>\n",
       "      <td>2590340</td>\n",
       "    </tr>\n",
       "    <tr>\n",
       "      <th>3</th>\n",
       "      <td>A002</td>\n",
       "      <td>R051</td>\n",
       "      <td>02-00-00</td>\n",
       "      <td>59 ST</td>\n",
       "      <td>NQR456W</td>\n",
       "      <td>BMT</td>\n",
       "      <td>05/29/2021</td>\n",
       "      <td>12:00:00</td>\n",
       "      <td>REGULAR</td>\n",
       "      <td>7578789</td>\n",
       "      <td>2590386</td>\n",
       "    </tr>\n",
       "    <tr>\n",
       "      <th>4</th>\n",
       "      <td>A002</td>\n",
       "      <td>R051</td>\n",
       "      <td>02-00-00</td>\n",
       "      <td>59 ST</td>\n",
       "      <td>NQR456W</td>\n",
       "      <td>BMT</td>\n",
       "      <td>05/29/2021</td>\n",
       "      <td>16:00:00</td>\n",
       "      <td>REGULAR</td>\n",
       "      <td>7578897</td>\n",
       "      <td>2590418</td>\n",
       "    </tr>\n",
       "  </tbody>\n",
       "</table>\n",
       "</div>"
      ],
      "text/plain": [
       "    C/A  UNIT       SCP STATION LINENAME DIVISION        DATE      TIME  \\\n",
       "0  A002  R051  02-00-00   59 ST  NQR456W      BMT  05/29/2021  00:00:00   \n",
       "1  A002  R051  02-00-00   59 ST  NQR456W      BMT  05/29/2021  04:00:00   \n",
       "2  A002  R051  02-00-00   59 ST  NQR456W      BMT  05/29/2021  08:00:00   \n",
       "3  A002  R051  02-00-00   59 ST  NQR456W      BMT  05/29/2021  12:00:00   \n",
       "4  A002  R051  02-00-00   59 ST  NQR456W      BMT  05/29/2021  16:00:00   \n",
       "\n",
       "      DESC  ENTRIES  \\\n",
       "0  REGULAR  7578734   \n",
       "1  REGULAR  7578740   \n",
       "2  REGULAR  7578749   \n",
       "3  REGULAR  7578789   \n",
       "4  REGULAR  7578897   \n",
       "\n",
       "   EXITS                                                                 \n",
       "0                                            2590325                     \n",
       "1                                            2590327                     \n",
       "2                                            2590340                     \n",
       "3                                            2590386                     \n",
       "4                                            2590418                     "
      ]
     },
     "execution_count": 4,
     "metadata": {},
     "output_type": "execute_result"
    }
   ],
   "source": [
    "turnstiles_df.head()"
   ]
  },
  {
   "cell_type": "markdown",
   "id": "10f905da",
   "metadata": {},
   "source": [
    "## Assessing Data"
   ]
  },
  {
   "cell_type": "code",
   "execution_count": 5,
   "id": "444099d0",
   "metadata": {
    "scrolled": true
   },
   "outputs": [
    {
     "data": {
      "text/plain": [
       "['C/A',\n",
       " 'UNIT',\n",
       " 'SCP',\n",
       " 'STATION',\n",
       " 'LINENAME',\n",
       " 'DIVISION',\n",
       " 'DATE',\n",
       " 'TIME',\n",
       " 'DESC',\n",
       " 'ENTRIES',\n",
       " 'EXITS                                                               ']"
      ]
     },
     "execution_count": 5,
     "metadata": {},
     "output_type": "execute_result"
    }
   ],
   "source": [
    "# Here we will list the columns \n",
    "list(turnstiles_df) "
   ]
  },
  {
   "cell_type": "code",
   "execution_count": 6,
   "id": "39a0fd1c",
   "metadata": {},
   "outputs": [
    {
     "data": {
      "text/plain": [
       "(2722610, 11)"
      ]
     },
     "execution_count": 6,
     "metadata": {},
     "output_type": "execute_result"
    }
   ],
   "source": [
    "# shape of the data\n",
    "turnstiles_df.shape"
   ]
  },
  {
   "cell_type": "code",
   "execution_count": 7,
   "id": "293baa1c",
   "metadata": {},
   "outputs": [
    {
     "name": "stdout",
     "output_type": "stream",
     "text": [
      "<class 'pandas.core.frame.DataFrame'>\n",
      "Int64Index: 2722610 entries, 0 to 209067\n",
      "Data columns (total 11 columns):\n",
      " #   Column                                                                Non-Null Count    Dtype \n",
      "---  ------                                                                --------------    ----- \n",
      " 0   C/A                                                                   2722610 non-null  object\n",
      " 1   UNIT                                                                  2722610 non-null  object\n",
      " 2   SCP                                                                   2722610 non-null  object\n",
      " 3   STATION                                                               2722610 non-null  object\n",
      " 4   LINENAME                                                              2722610 non-null  object\n",
      " 5   DIVISION                                                              2722610 non-null  object\n",
      " 6   DATE                                                                  2722610 non-null  object\n",
      " 7   TIME                                                                  2722610 non-null  object\n",
      " 8   DESC                                                                  2722610 non-null  object\n",
      " 9   ENTRIES                                                               2722610 non-null  int64 \n",
      " 10  EXITS                                                                 2722610 non-null  int64 \n",
      "dtypes: int64(2), object(9)\n",
      "memory usage: 249.3+ MB\n"
     ]
    },
    {
     "name": "stderr",
     "output_type": "stream",
     "text": [
      "<ipython-input-7-aaf6c11ca5e4>:1: FutureWarning: null_counts is deprecated. Use show_counts instead\n",
      "  turnstiles_df.info(verbose=True, null_counts=True)\n"
     ]
    }
   ],
   "source": [
    "turnstiles_df.info(verbose=True, null_counts=True)"
   ]
  },
  {
   "cell_type": "code",
   "execution_count": 8,
   "id": "4f8b9926",
   "metadata": {},
   "outputs": [
    {
     "data": {
      "text/plain": [
       "C/A                                                                     0\n",
       "UNIT                                                                    0\n",
       "SCP                                                                     0\n",
       "STATION                                                                 0\n",
       "LINENAME                                                                0\n",
       "DIVISION                                                                0\n",
       "DATE                                                                    0\n",
       "TIME                                                                    0\n",
       "DESC                                                                    0\n",
       "ENTRIES                                                                 0\n",
       "EXITS                                                                   0\n",
       "dtype: int64"
      ]
     },
     "execution_count": 8,
     "metadata": {},
     "output_type": "execute_result"
    }
   ],
   "source": [
    "# Check for null values\n",
    "turnstiles_df.isnull().sum()"
   ]
  },
  {
   "cell_type": "code",
   "execution_count": 9,
   "id": "25417b1f",
   "metadata": {},
   "outputs": [
    {
     "data": {
      "text/html": [
       "<div>\n",
       "<style scoped>\n",
       "    .dataframe tbody tr th:only-of-type {\n",
       "        vertical-align: middle;\n",
       "    }\n",
       "\n",
       "    .dataframe tbody tr th {\n",
       "        vertical-align: top;\n",
       "    }\n",
       "\n",
       "    .dataframe thead th {\n",
       "        text-align: right;\n",
       "    }\n",
       "</style>\n",
       "<table border=\"1\" class=\"dataframe\">\n",
       "  <thead>\n",
       "    <tr style=\"text-align: right;\">\n",
       "      <th></th>\n",
       "      <th>ENTRIES</th>\n",
       "      <th>EXITS</th>\n",
       "    </tr>\n",
       "  </thead>\n",
       "  <tbody>\n",
       "    <tr>\n",
       "      <th>count</th>\n",
       "      <td>2.722610e+06</td>\n",
       "      <td>2.722610e+06</td>\n",
       "    </tr>\n",
       "    <tr>\n",
       "      <th>mean</th>\n",
       "      <td>4.168248e+07</td>\n",
       "      <td>3.329946e+07</td>\n",
       "    </tr>\n",
       "    <tr>\n",
       "      <th>std</th>\n",
       "      <td>2.185146e+08</td>\n",
       "      <td>1.919706e+08</td>\n",
       "    </tr>\n",
       "    <tr>\n",
       "      <th>min</th>\n",
       "      <td>0.000000e+00</td>\n",
       "      <td>0.000000e+00</td>\n",
       "    </tr>\n",
       "    <tr>\n",
       "      <th>25%</th>\n",
       "      <td>2.179232e+05</td>\n",
       "      <td>9.944325e+04</td>\n",
       "    </tr>\n",
       "    <tr>\n",
       "      <th>50%</th>\n",
       "      <td>1.405620e+06</td>\n",
       "      <td>8.552440e+05</td>\n",
       "    </tr>\n",
       "    <tr>\n",
       "      <th>75%</th>\n",
       "      <td>6.023157e+06</td>\n",
       "      <td>3.968192e+06</td>\n",
       "    </tr>\n",
       "    <tr>\n",
       "      <th>max</th>\n",
       "      <td>2.147417e+09</td>\n",
       "      <td>2.122890e+09</td>\n",
       "    </tr>\n",
       "  </tbody>\n",
       "</table>\n",
       "</div>"
      ],
      "text/plain": [
       "            ENTRIES  \\\n",
       "count  2.722610e+06   \n",
       "mean   4.168248e+07   \n",
       "std    2.185146e+08   \n",
       "min    0.000000e+00   \n",
       "25%    2.179232e+05   \n",
       "50%    1.405620e+06   \n",
       "75%    6.023157e+06   \n",
       "max    2.147417e+09   \n",
       "\n",
       "       EXITS                                                                 \n",
       "count                                       2.722610e+06                     \n",
       "mean                                        3.329946e+07                     \n",
       "std                                         1.919706e+08                     \n",
       "min                                         0.000000e+00                     \n",
       "25%                                         9.944325e+04                     \n",
       "50%                                         8.552440e+05                     \n",
       "75%                                         3.968192e+06                     \n",
       "max                                         2.122890e+09                     "
      ]
     },
     "execution_count": 9,
     "metadata": {},
     "output_type": "execute_result"
    }
   ],
   "source": [
    "turnstiles_df.describe()"
   ]
  },
  {
   "cell_type": "markdown",
   "id": "b9c7b654",
   "metadata": {},
   "source": [
    "## Data Cleaning \n",
    "\n",
    ">▪ Delete the space from `EXITS       ` column <br>\n",
    "▪ Delete duplicates (drop `RECOVR AUD` from `DESC` column)  <br>\n",
    "▪ Filter the data to only daily entries and exits <br>\n",
    "▪ Add `Daily_entries` coulmn by finding the diffrence from `ENTRIES` column <br> \n",
    "▪ Add `Daily_exits` coulmn by finding the diffrence from `EXITS` column <br> \n",
    "▪ Add `Daily_trafic` coulmn by using `Daily_exits` + `Daily_entries` <br> \n",
    "▪ Convert date to `day_of_week` and `month`\n"
   ]
  },
  {
   "cell_type": "code",
   "execution_count": 10,
   "id": "588ffb76",
   "metadata": {},
   "outputs": [
    {
     "data": {
      "text/plain": [
       "['C/A',\n",
       " 'UNIT',\n",
       " 'SCP',\n",
       " 'STATION',\n",
       " 'LINENAME',\n",
       " 'DIVISION',\n",
       " 'DATE',\n",
       " 'TIME',\n",
       " 'DESC',\n",
       " 'ENTRIES',\n",
       " 'EXITS                                                               ']"
      ]
     },
     "execution_count": 10,
     "metadata": {},
     "output_type": "execute_result"
    }
   ],
   "source": [
    "list(turnstiles_df) "
   ]
  },
  {
   "cell_type": "code",
   "execution_count": 11,
   "id": "84e5b1e6",
   "metadata": {},
   "outputs": [],
   "source": [
    "# Delete the tab from `EXITS       ` column\n",
    "turnstiles_df = turnstiles_df.rename(columns={'EXITS                                                               ':\"EXITS\"})"
   ]
  },
  {
   "cell_type": "code",
   "execution_count": 12,
   "id": "a3336d6b",
   "metadata": {},
   "outputs": [
    {
     "data": {
      "text/plain": [
       "['C/A',\n",
       " 'UNIT',\n",
       " 'SCP',\n",
       " 'STATION',\n",
       " 'LINENAME',\n",
       " 'DIVISION',\n",
       " 'DATE',\n",
       " 'TIME',\n",
       " 'DESC',\n",
       " 'ENTRIES',\n",
       " 'EXITS']"
      ]
     },
     "execution_count": 12,
     "metadata": {},
     "output_type": "execute_result"
    }
   ],
   "source": [
    "list(turnstiles_df) "
   ]
  },
  {
   "cell_type": "code",
   "execution_count": 13,
   "id": "7ab70fc9",
   "metadata": {},
   "outputs": [
    {
     "data": {
      "text/plain": [
       "REGULAR       2710456\n",
       "RECOVR AUD      12154\n",
       "Name: DESC, dtype: int64"
      ]
     },
     "execution_count": 13,
     "metadata": {},
     "output_type": "execute_result"
    }
   ],
   "source": [
    "# Delete duplicates (drop RECOVR AUD from DESC column)\n",
    "turnstiles_df.DESC.value_counts()"
   ]
  },
  {
   "cell_type": "code",
   "execution_count": 14,
   "id": "93a31fcb",
   "metadata": {},
   "outputs": [],
   "source": [
    "turnstiles_df = turnstiles_df[turnstiles_df['DESC'] == 'REGULAR']"
   ]
  },
  {
   "cell_type": "code",
   "execution_count": 15,
   "id": "fbc602b3",
   "metadata": {},
   "outputs": [
    {
     "data": {
      "text/plain": [
       "REGULAR    2710456\n",
       "Name: DESC, dtype: int64"
      ]
     },
     "execution_count": 15,
     "metadata": {},
     "output_type": "execute_result"
    }
   ],
   "source": [
    "turnstiles_df.DESC.value_counts()"
   ]
  },
  {
   "cell_type": "code",
   "execution_count": 16,
   "id": "341175e3",
   "metadata": {},
   "outputs": [],
   "source": [
    "# Filter the data to only daily entries and exits\n",
    "df_daily = (turnstiles_df.groupby([ 'C/A','UNIT','SCP','STATION','DATE']).ENTRIES.max().reset_index())"
   ]
  },
  {
   "cell_type": "code",
   "execution_count": 17,
   "id": "bcd7f6c6",
   "metadata": {},
   "outputs": [],
   "source": [
    "df_daily['EXITS'] = (turnstiles_df.groupby(['C/A','UNIT','SCP','STATION','DATE']).EXITS.max().reset_index().EXITS)"
   ]
  },
  {
   "cell_type": "code",
   "execution_count": 18,
   "id": "6e44bf20",
   "metadata": {},
   "outputs": [
    {
     "data": {
      "text/html": [
       "<div>\n",
       "<style scoped>\n",
       "    .dataframe tbody tr th:only-of-type {\n",
       "        vertical-align: middle;\n",
       "    }\n",
       "\n",
       "    .dataframe tbody tr th {\n",
       "        vertical-align: top;\n",
       "    }\n",
       "\n",
       "    .dataframe thead th {\n",
       "        text-align: right;\n",
       "    }\n",
       "</style>\n",
       "<table border=\"1\" class=\"dataframe\">\n",
       "  <thead>\n",
       "    <tr style=\"text-align: right;\">\n",
       "      <th></th>\n",
       "      <th>C/A</th>\n",
       "      <th>UNIT</th>\n",
       "      <th>SCP</th>\n",
       "      <th>STATION</th>\n",
       "      <th>DATE</th>\n",
       "      <th>ENTRIES</th>\n",
       "      <th>EXITS</th>\n",
       "    </tr>\n",
       "  </thead>\n",
       "  <tbody>\n",
       "    <tr>\n",
       "      <th>0</th>\n",
       "      <td>A002</td>\n",
       "      <td>R051</td>\n",
       "      <td>02-00-00</td>\n",
       "      <td>59 ST</td>\n",
       "      <td>05/29/2021</td>\n",
       "      <td>7579021</td>\n",
       "      <td>2590439</td>\n",
       "    </tr>\n",
       "    <tr>\n",
       "      <th>1</th>\n",
       "      <td>A002</td>\n",
       "      <td>R051</td>\n",
       "      <td>02-00-00</td>\n",
       "      <td>59 ST</td>\n",
       "      <td>05/30/2021</td>\n",
       "      <td>7579275</td>\n",
       "      <td>2590548</td>\n",
       "    </tr>\n",
       "    <tr>\n",
       "      <th>2</th>\n",
       "      <td>A002</td>\n",
       "      <td>R051</td>\n",
       "      <td>02-00-00</td>\n",
       "      <td>59 ST</td>\n",
       "      <td>05/31/2021</td>\n",
       "      <td>7579593</td>\n",
       "      <td>2590641</td>\n",
       "    </tr>\n",
       "    <tr>\n",
       "      <th>3</th>\n",
       "      <td>A002</td>\n",
       "      <td>R051</td>\n",
       "      <td>02-00-00</td>\n",
       "      <td>59 ST</td>\n",
       "      <td>06/01/2021</td>\n",
       "      <td>7580178</td>\n",
       "      <td>2590917</td>\n",
       "    </tr>\n",
       "    <tr>\n",
       "      <th>4</th>\n",
       "      <td>A002</td>\n",
       "      <td>R051</td>\n",
       "      <td>02-00-00</td>\n",
       "      <td>59 ST</td>\n",
       "      <td>06/02/2021</td>\n",
       "      <td>7580754</td>\n",
       "      <td>2591200</td>\n",
       "    </tr>\n",
       "  </tbody>\n",
       "</table>\n",
       "</div>"
      ],
      "text/plain": [
       "    C/A  UNIT       SCP STATION        DATE  ENTRIES    EXITS\n",
       "0  A002  R051  02-00-00   59 ST  05/29/2021  7579021  2590439\n",
       "1  A002  R051  02-00-00   59 ST  05/30/2021  7579275  2590548\n",
       "2  A002  R051  02-00-00   59 ST  05/31/2021  7579593  2590641\n",
       "3  A002  R051  02-00-00   59 ST  06/01/2021  7580178  2590917\n",
       "4  A002  R051  02-00-00   59 ST  06/02/2021  7580754  2591200"
      ]
     },
     "execution_count": 18,
     "metadata": {},
     "output_type": "execute_result"
    }
   ],
   "source": [
    "df_daily.head()"
   ]
  },
  {
   "cell_type": "code",
   "execution_count": 19,
   "id": "0f645f5d",
   "metadata": {},
   "outputs": [
    {
     "data": {
      "text/html": [
       "<div>\n",
       "<style scoped>\n",
       "    .dataframe tbody tr th:only-of-type {\n",
       "        vertical-align: middle;\n",
       "    }\n",
       "\n",
       "    .dataframe tbody tr th {\n",
       "        vertical-align: top;\n",
       "    }\n",
       "\n",
       "    .dataframe thead th {\n",
       "        text-align: right;\n",
       "    }\n",
       "</style>\n",
       "<table border=\"1\" class=\"dataframe\">\n",
       "  <thead>\n",
       "    <tr style=\"text-align: right;\">\n",
       "      <th></th>\n",
       "      <th>C/A</th>\n",
       "      <th>UNIT</th>\n",
       "      <th>SCP</th>\n",
       "      <th>STATION</th>\n",
       "      <th>DATE</th>\n",
       "      <th>ENTRIES</th>\n",
       "      <th>EXITS</th>\n",
       "      <th>DAILY_ENTRIES</th>\n",
       "    </tr>\n",
       "  </thead>\n",
       "  <tbody>\n",
       "    <tr>\n",
       "      <th>0</th>\n",
       "      <td>A002</td>\n",
       "      <td>R051</td>\n",
       "      <td>02-00-00</td>\n",
       "      <td>59 ST</td>\n",
       "      <td>05/29/2021</td>\n",
       "      <td>7579021</td>\n",
       "      <td>2590439</td>\n",
       "      <td>NaN</td>\n",
       "    </tr>\n",
       "    <tr>\n",
       "      <th>1</th>\n",
       "      <td>A002</td>\n",
       "      <td>R051</td>\n",
       "      <td>02-00-00</td>\n",
       "      <td>59 ST</td>\n",
       "      <td>05/30/2021</td>\n",
       "      <td>7579275</td>\n",
       "      <td>2590548</td>\n",
       "      <td>254.0</td>\n",
       "    </tr>\n",
       "    <tr>\n",
       "      <th>2</th>\n",
       "      <td>A002</td>\n",
       "      <td>R051</td>\n",
       "      <td>02-00-00</td>\n",
       "      <td>59 ST</td>\n",
       "      <td>05/31/2021</td>\n",
       "      <td>7579593</td>\n",
       "      <td>2590641</td>\n",
       "      <td>318.0</td>\n",
       "    </tr>\n",
       "    <tr>\n",
       "      <th>3</th>\n",
       "      <td>A002</td>\n",
       "      <td>R051</td>\n",
       "      <td>02-00-00</td>\n",
       "      <td>59 ST</td>\n",
       "      <td>06/01/2021</td>\n",
       "      <td>7580178</td>\n",
       "      <td>2590917</td>\n",
       "      <td>585.0</td>\n",
       "    </tr>\n",
       "    <tr>\n",
       "      <th>4</th>\n",
       "      <td>A002</td>\n",
       "      <td>R051</td>\n",
       "      <td>02-00-00</td>\n",
       "      <td>59 ST</td>\n",
       "      <td>06/02/2021</td>\n",
       "      <td>7580754</td>\n",
       "      <td>2591200</td>\n",
       "      <td>576.0</td>\n",
       "    </tr>\n",
       "  </tbody>\n",
       "</table>\n",
       "</div>"
      ],
      "text/plain": [
       "    C/A  UNIT       SCP STATION        DATE  ENTRIES    EXITS  DAILY_ENTRIES\n",
       "0  A002  R051  02-00-00   59 ST  05/29/2021  7579021  2590439            NaN\n",
       "1  A002  R051  02-00-00   59 ST  05/30/2021  7579275  2590548          254.0\n",
       "2  A002  R051  02-00-00   59 ST  05/31/2021  7579593  2590641          318.0\n",
       "3  A002  R051  02-00-00   59 ST  06/01/2021  7580178  2590917          585.0\n",
       "4  A002  R051  02-00-00   59 ST  06/02/2021  7580754  2591200          576.0"
      ]
     },
     "execution_count": 19,
     "metadata": {},
     "output_type": "execute_result"
    }
   ],
   "source": [
    "# Add Daily_entries coulmn by finding the diffrence from ENTRIES column \n",
    "\n",
    "df_daily['DAILY_ENTRIES']= df_daily['ENTRIES'].diff()\n",
    "\n",
    "df_daily.head()"
   ]
  },
  {
   "cell_type": "code",
   "execution_count": 20,
   "id": "57a03c9c",
   "metadata": {},
   "outputs": [
    {
     "data": {
      "text/html": [
       "<div>\n",
       "<style scoped>\n",
       "    .dataframe tbody tr th:only-of-type {\n",
       "        vertical-align: middle;\n",
       "    }\n",
       "\n",
       "    .dataframe tbody tr th {\n",
       "        vertical-align: top;\n",
       "    }\n",
       "\n",
       "    .dataframe thead th {\n",
       "        text-align: right;\n",
       "    }\n",
       "</style>\n",
       "<table border=\"1\" class=\"dataframe\">\n",
       "  <thead>\n",
       "    <tr style=\"text-align: right;\">\n",
       "      <th></th>\n",
       "      <th>C/A</th>\n",
       "      <th>UNIT</th>\n",
       "      <th>SCP</th>\n",
       "      <th>STATION</th>\n",
       "      <th>DATE</th>\n",
       "      <th>ENTRIES</th>\n",
       "      <th>EXITS</th>\n",
       "      <th>DAILY_ENTRIES</th>\n",
       "      <th>DAILY_EXITS</th>\n",
       "    </tr>\n",
       "  </thead>\n",
       "  <tbody>\n",
       "    <tr>\n",
       "      <th>0</th>\n",
       "      <td>A002</td>\n",
       "      <td>R051</td>\n",
       "      <td>02-00-00</td>\n",
       "      <td>59 ST</td>\n",
       "      <td>05/29/2021</td>\n",
       "      <td>7579021</td>\n",
       "      <td>2590439</td>\n",
       "      <td>NaN</td>\n",
       "      <td>NaN</td>\n",
       "    </tr>\n",
       "    <tr>\n",
       "      <th>1</th>\n",
       "      <td>A002</td>\n",
       "      <td>R051</td>\n",
       "      <td>02-00-00</td>\n",
       "      <td>59 ST</td>\n",
       "      <td>05/30/2021</td>\n",
       "      <td>7579275</td>\n",
       "      <td>2590548</td>\n",
       "      <td>254.0</td>\n",
       "      <td>109.0</td>\n",
       "    </tr>\n",
       "    <tr>\n",
       "      <th>2</th>\n",
       "      <td>A002</td>\n",
       "      <td>R051</td>\n",
       "      <td>02-00-00</td>\n",
       "      <td>59 ST</td>\n",
       "      <td>05/31/2021</td>\n",
       "      <td>7579593</td>\n",
       "      <td>2590641</td>\n",
       "      <td>318.0</td>\n",
       "      <td>93.0</td>\n",
       "    </tr>\n",
       "    <tr>\n",
       "      <th>3</th>\n",
       "      <td>A002</td>\n",
       "      <td>R051</td>\n",
       "      <td>02-00-00</td>\n",
       "      <td>59 ST</td>\n",
       "      <td>06/01/2021</td>\n",
       "      <td>7580178</td>\n",
       "      <td>2590917</td>\n",
       "      <td>585.0</td>\n",
       "      <td>276.0</td>\n",
       "    </tr>\n",
       "    <tr>\n",
       "      <th>4</th>\n",
       "      <td>A002</td>\n",
       "      <td>R051</td>\n",
       "      <td>02-00-00</td>\n",
       "      <td>59 ST</td>\n",
       "      <td>06/02/2021</td>\n",
       "      <td>7580754</td>\n",
       "      <td>2591200</td>\n",
       "      <td>576.0</td>\n",
       "      <td>283.0</td>\n",
       "    </tr>\n",
       "  </tbody>\n",
       "</table>\n",
       "</div>"
      ],
      "text/plain": [
       "    C/A  UNIT       SCP STATION        DATE  ENTRIES    EXITS  DAILY_ENTRIES  \\\n",
       "0  A002  R051  02-00-00   59 ST  05/29/2021  7579021  2590439            NaN   \n",
       "1  A002  R051  02-00-00   59 ST  05/30/2021  7579275  2590548          254.0   \n",
       "2  A002  R051  02-00-00   59 ST  05/31/2021  7579593  2590641          318.0   \n",
       "3  A002  R051  02-00-00   59 ST  06/01/2021  7580178  2590917          585.0   \n",
       "4  A002  R051  02-00-00   59 ST  06/02/2021  7580754  2591200          576.0   \n",
       "\n",
       "   DAILY_EXITS  \n",
       "0          NaN  \n",
       "1        109.0  \n",
       "2         93.0  \n",
       "3        276.0  \n",
       "4        283.0  "
      ]
     },
     "execution_count": 20,
     "metadata": {},
     "output_type": "execute_result"
    }
   ],
   "source": [
    "# Add Daily_exits coulmn by finding the diffrence from EXITS column\n",
    "df_daily['DAILY_EXITS']= df_daily['EXITS'].diff()\n",
    "df_daily.head()"
   ]
  },
  {
   "cell_type": "code",
   "execution_count": 21,
   "id": "5fa0d262",
   "metadata": {},
   "outputs": [],
   "source": [
    "# Solve the negetive values on Daily_entries and Daily_exits\n",
    "df_daily['PREV_ENTRIES'] = df_daily['ENTRIES'].shift(1)\n",
    "df_daily['PREV_EXITS'] = df_daily['EXITS'].shift(1)"
   ]
  },
  {
   "cell_type": "code",
   "execution_count": 22,
   "id": "509551f0",
   "metadata": {},
   "outputs": [],
   "source": [
    "def get_daily_counts(row, max_counter, name):\n",
    "    counter = row[name] - row[\"PREV_\"+name]\n",
    "    if counter < 0:\n",
    "        # Maybe counter is reversed?\n",
    "        counter = -counter\n",
    "    if counter > max_counter:\n",
    "        # Maybe counter was reset to 0? \n",
    "        counter = min(row[name], row[\"PREV_\"+name])\n",
    "    if counter > max_counter:\n",
    "        # Check it again to make sure we're not still giving a counter that's too big\n",
    "        return 0\n",
    "    return counter\n",
    "\n",
    "df_daily[\"DAILY_ENTRIES\"] = df_daily.apply(get_daily_counts, axis=1, max_counter=500000, name=\"ENTRIES\")\n",
    "df_daily[\"DAILY_EXITS\"] = df_daily.apply(get_daily_counts, axis=1, max_counter=500000, name=\"EXITS\")\n",
    "df_daily.dropna(inplace= True)\n"
   ]
  },
  {
   "cell_type": "markdown",
   "id": "e4daa5e8",
   "metadata": {},
   "source": [
    "Check Results"
   ]
  },
  {
   "cell_type": "code",
   "execution_count": 23,
   "id": "b00965cf",
   "metadata": {},
   "outputs": [
    {
     "data": {
      "text/html": [
       "<div>\n",
       "<style scoped>\n",
       "    .dataframe tbody tr th:only-of-type {\n",
       "        vertical-align: middle;\n",
       "    }\n",
       "\n",
       "    .dataframe tbody tr th {\n",
       "        vertical-align: top;\n",
       "    }\n",
       "\n",
       "    .dataframe thead th {\n",
       "        text-align: right;\n",
       "    }\n",
       "</style>\n",
       "<table border=\"1\" class=\"dataframe\">\n",
       "  <thead>\n",
       "    <tr style=\"text-align: right;\">\n",
       "      <th></th>\n",
       "      <th>C/A</th>\n",
       "      <th>UNIT</th>\n",
       "      <th>SCP</th>\n",
       "      <th>STATION</th>\n",
       "      <th>DATE</th>\n",
       "      <th>ENTRIES</th>\n",
       "      <th>EXITS</th>\n",
       "      <th>DAILY_ENTRIES</th>\n",
       "      <th>DAILY_EXITS</th>\n",
       "      <th>PREV_ENTRIES</th>\n",
       "      <th>PREV_EXITS</th>\n",
       "    </tr>\n",
       "  </thead>\n",
       "  <tbody>\n",
       "  </tbody>\n",
       "</table>\n",
       "</div>"
      ],
      "text/plain": [
       "Empty DataFrame\n",
       "Columns: [C/A, UNIT, SCP, STATION, DATE, ENTRIES, EXITS, DAILY_ENTRIES, DAILY_EXITS, PREV_ENTRIES, PREV_EXITS]\n",
       "Index: []"
      ]
     },
     "execution_count": 23,
     "metadata": {},
     "output_type": "execute_result"
    }
   ],
   "source": [
    "df_daily[((df_daily.ENTRIES ==0) & (df_daily.DAILY_ENTRIES < 0)) | (df_daily.ENTRIES ==0) & (df_daily.DAILY_EXITS < 0)].head()"
   ]
  },
  {
   "cell_type": "code",
   "execution_count": 24,
   "id": "36940036",
   "metadata": {},
   "outputs": [
    {
     "data": {
      "text/html": [
       "<div>\n",
       "<style scoped>\n",
       "    .dataframe tbody tr th:only-of-type {\n",
       "        vertical-align: middle;\n",
       "    }\n",
       "\n",
       "    .dataframe tbody tr th {\n",
       "        vertical-align: top;\n",
       "    }\n",
       "\n",
       "    .dataframe thead th {\n",
       "        text-align: right;\n",
       "    }\n",
       "</style>\n",
       "<table border=\"1\" class=\"dataframe\">\n",
       "  <thead>\n",
       "    <tr style=\"text-align: right;\">\n",
       "      <th></th>\n",
       "      <th>C/A</th>\n",
       "      <th>UNIT</th>\n",
       "      <th>SCP</th>\n",
       "      <th>STATION</th>\n",
       "      <th>DATE</th>\n",
       "      <th>ENTRIES</th>\n",
       "      <th>EXITS</th>\n",
       "      <th>DAILY_ENTRIES</th>\n",
       "      <th>DAILY_EXITS</th>\n",
       "      <th>PREV_ENTRIES</th>\n",
       "      <th>PREV_EXITS</th>\n",
       "    </tr>\n",
       "  </thead>\n",
       "  <tbody>\n",
       "  </tbody>\n",
       "</table>\n",
       "</div>"
      ],
      "text/plain": [
       "Empty DataFrame\n",
       "Columns: [C/A, UNIT, SCP, STATION, DATE, ENTRIES, EXITS, DAILY_ENTRIES, DAILY_EXITS, PREV_ENTRIES, PREV_EXITS]\n",
       "Index: []"
      ]
     },
     "execution_count": 24,
     "metadata": {},
     "output_type": "execute_result"
    }
   ],
   "source": [
    "df_daily[((df_daily.ENTRIES != 0) & (df_daily.DAILY_ENTRIES < 0)) | (df_daily.ENTRIES != 0) & (df_daily.DAILY_EXITS < 0)].head()"
   ]
  },
  {
   "cell_type": "code",
   "execution_count": 25,
   "id": "b40c28d0",
   "metadata": {},
   "outputs": [],
   "source": [
    "# Add Daily_trafic coulmn by using Daily_exits + Daily_entries\n",
    "df_daily['DAILY_TRAFIC']= df_daily['DAILY_ENTRIES'] + df_daily['DAILY_EXITS']"
   ]
  },
  {
   "cell_type": "code",
   "execution_count": 26,
   "id": "fb7ff835",
   "metadata": {},
   "outputs": [],
   "source": [
    "# df_daily.drop(['DAILY_ENTRIES','DAILY_EXITS'],axis=1,inplace=True)"
   ]
  },
  {
   "cell_type": "code",
   "execution_count": 27,
   "id": "7784783c",
   "metadata": {},
   "outputs": [
    {
     "data": {
      "text/html": [
       "<div>\n",
       "<style scoped>\n",
       "    .dataframe tbody tr th:only-of-type {\n",
       "        vertical-align: middle;\n",
       "    }\n",
       "\n",
       "    .dataframe tbody tr th {\n",
       "        vertical-align: top;\n",
       "    }\n",
       "\n",
       "    .dataframe thead th {\n",
       "        text-align: right;\n",
       "    }\n",
       "</style>\n",
       "<table border=\"1\" class=\"dataframe\">\n",
       "  <thead>\n",
       "    <tr style=\"text-align: right;\">\n",
       "      <th></th>\n",
       "      <th>C/A</th>\n",
       "      <th>UNIT</th>\n",
       "      <th>SCP</th>\n",
       "      <th>STATION</th>\n",
       "      <th>DATE</th>\n",
       "      <th>ENTRIES</th>\n",
       "      <th>EXITS</th>\n",
       "      <th>DAILY_ENTRIES</th>\n",
       "      <th>DAILY_EXITS</th>\n",
       "      <th>PREV_ENTRIES</th>\n",
       "      <th>PREV_EXITS</th>\n",
       "      <th>DAILY_TRAFIC</th>\n",
       "    </tr>\n",
       "  </thead>\n",
       "  <tbody>\n",
       "    <tr>\n",
       "      <th>1</th>\n",
       "      <td>A002</td>\n",
       "      <td>R051</td>\n",
       "      <td>02-00-00</td>\n",
       "      <td>59 ST</td>\n",
       "      <td>05/30/2021</td>\n",
       "      <td>7579275</td>\n",
       "      <td>2590548</td>\n",
       "      <td>254.0</td>\n",
       "      <td>109.0</td>\n",
       "      <td>7579021.0</td>\n",
       "      <td>2590439.0</td>\n",
       "      <td>363.0</td>\n",
       "    </tr>\n",
       "    <tr>\n",
       "      <th>2</th>\n",
       "      <td>A002</td>\n",
       "      <td>R051</td>\n",
       "      <td>02-00-00</td>\n",
       "      <td>59 ST</td>\n",
       "      <td>05/31/2021</td>\n",
       "      <td>7579593</td>\n",
       "      <td>2590641</td>\n",
       "      <td>318.0</td>\n",
       "      <td>93.0</td>\n",
       "      <td>7579275.0</td>\n",
       "      <td>2590548.0</td>\n",
       "      <td>411.0</td>\n",
       "    </tr>\n",
       "    <tr>\n",
       "      <th>3</th>\n",
       "      <td>A002</td>\n",
       "      <td>R051</td>\n",
       "      <td>02-00-00</td>\n",
       "      <td>59 ST</td>\n",
       "      <td>06/01/2021</td>\n",
       "      <td>7580178</td>\n",
       "      <td>2590917</td>\n",
       "      <td>585.0</td>\n",
       "      <td>276.0</td>\n",
       "      <td>7579593.0</td>\n",
       "      <td>2590641.0</td>\n",
       "      <td>861.0</td>\n",
       "    </tr>\n",
       "    <tr>\n",
       "      <th>4</th>\n",
       "      <td>A002</td>\n",
       "      <td>R051</td>\n",
       "      <td>02-00-00</td>\n",
       "      <td>59 ST</td>\n",
       "      <td>06/02/2021</td>\n",
       "      <td>7580754</td>\n",
       "      <td>2591200</td>\n",
       "      <td>576.0</td>\n",
       "      <td>283.0</td>\n",
       "      <td>7580178.0</td>\n",
       "      <td>2590917.0</td>\n",
       "      <td>859.0</td>\n",
       "    </tr>\n",
       "    <tr>\n",
       "      <th>5</th>\n",
       "      <td>A002</td>\n",
       "      <td>R051</td>\n",
       "      <td>02-00-00</td>\n",
       "      <td>59 ST</td>\n",
       "      <td>06/03/2021</td>\n",
       "      <td>7581328</td>\n",
       "      <td>2591445</td>\n",
       "      <td>574.0</td>\n",
       "      <td>245.0</td>\n",
       "      <td>7580754.0</td>\n",
       "      <td>2591200.0</td>\n",
       "      <td>819.0</td>\n",
       "    </tr>\n",
       "  </tbody>\n",
       "</table>\n",
       "</div>"
      ],
      "text/plain": [
       "    C/A  UNIT       SCP STATION        DATE  ENTRIES    EXITS  DAILY_ENTRIES  \\\n",
       "1  A002  R051  02-00-00   59 ST  05/30/2021  7579275  2590548          254.0   \n",
       "2  A002  R051  02-00-00   59 ST  05/31/2021  7579593  2590641          318.0   \n",
       "3  A002  R051  02-00-00   59 ST  06/01/2021  7580178  2590917          585.0   \n",
       "4  A002  R051  02-00-00   59 ST  06/02/2021  7580754  2591200          576.0   \n",
       "5  A002  R051  02-00-00   59 ST  06/03/2021  7581328  2591445          574.0   \n",
       "\n",
       "   DAILY_EXITS  PREV_ENTRIES  PREV_EXITS  DAILY_TRAFIC  \n",
       "1        109.0     7579021.0   2590439.0         363.0  \n",
       "2         93.0     7579275.0   2590548.0         411.0  \n",
       "3        276.0     7579593.0   2590641.0         861.0  \n",
       "4        283.0     7580178.0   2590917.0         859.0  \n",
       "5        245.0     7580754.0   2591200.0         819.0  "
      ]
     },
     "execution_count": 27,
     "metadata": {},
     "output_type": "execute_result"
    }
   ],
   "source": [
    "df_daily.head()"
   ]
  },
  {
   "cell_type": "code",
   "execution_count": 28,
   "id": "26fa037f",
   "metadata": {},
   "outputs": [],
   "source": [
    "# convert date to day_of_week and month\n",
    "df_daily['DATE'] = pd.to_datetime(df_daily['DATE'])\n",
    "\n",
    "\n",
    "df_daily['month'] = df_daily['DATE'].apply(lambda x: x.strftime('%B').lower())\n",
    "df_daily['day_of_week'] = df_daily['DATE'].apply(lambda x: x.strftime('%A').lower())"
   ]
  },
  {
   "cell_type": "code",
   "execution_count": 29,
   "id": "f5812c65",
   "metadata": {},
   "outputs": [],
   "source": [
    "# List of days in order\n",
    "day_order = ['monday', 'tuesday', 'wednesday', 'thursday', 'friday', 'saturday',\n",
    "       'sunday']\n",
    "# create ordered categorical variable\n",
    "df_daily['day_of_week'] = pd.Categorical(df_daily['day_of_week'],\n",
    "                                               categories= day_order,\n",
    "                                               ordered = True)"
   ]
  },
  {
   "cell_type": "code",
   "execution_count": 30,
   "id": "3524889c",
   "metadata": {},
   "outputs": [
    {
     "data": {
      "text/html": [
       "<div>\n",
       "<style scoped>\n",
       "    .dataframe tbody tr th:only-of-type {\n",
       "        vertical-align: middle;\n",
       "    }\n",
       "\n",
       "    .dataframe tbody tr th {\n",
       "        vertical-align: top;\n",
       "    }\n",
       "\n",
       "    .dataframe thead th {\n",
       "        text-align: right;\n",
       "    }\n",
       "</style>\n",
       "<table border=\"1\" class=\"dataframe\">\n",
       "  <thead>\n",
       "    <tr style=\"text-align: right;\">\n",
       "      <th></th>\n",
       "      <th>C/A</th>\n",
       "      <th>UNIT</th>\n",
       "      <th>SCP</th>\n",
       "      <th>STATION</th>\n",
       "      <th>DATE</th>\n",
       "      <th>ENTRIES</th>\n",
       "      <th>EXITS</th>\n",
       "      <th>DAILY_ENTRIES</th>\n",
       "      <th>DAILY_EXITS</th>\n",
       "      <th>PREV_ENTRIES</th>\n",
       "      <th>PREV_EXITS</th>\n",
       "      <th>DAILY_TRAFIC</th>\n",
       "      <th>month</th>\n",
       "      <th>day_of_week</th>\n",
       "    </tr>\n",
       "  </thead>\n",
       "  <tbody>\n",
       "    <tr>\n",
       "      <th>1</th>\n",
       "      <td>A002</td>\n",
       "      <td>R051</td>\n",
       "      <td>02-00-00</td>\n",
       "      <td>59 ST</td>\n",
       "      <td>2021-05-30</td>\n",
       "      <td>7579275</td>\n",
       "      <td>2590548</td>\n",
       "      <td>254.0</td>\n",
       "      <td>109.0</td>\n",
       "      <td>7579021.0</td>\n",
       "      <td>2590439.0</td>\n",
       "      <td>363.0</td>\n",
       "      <td>may</td>\n",
       "      <td>sunday</td>\n",
       "    </tr>\n",
       "    <tr>\n",
       "      <th>2</th>\n",
       "      <td>A002</td>\n",
       "      <td>R051</td>\n",
       "      <td>02-00-00</td>\n",
       "      <td>59 ST</td>\n",
       "      <td>2021-05-31</td>\n",
       "      <td>7579593</td>\n",
       "      <td>2590641</td>\n",
       "      <td>318.0</td>\n",
       "      <td>93.0</td>\n",
       "      <td>7579275.0</td>\n",
       "      <td>2590548.0</td>\n",
       "      <td>411.0</td>\n",
       "      <td>may</td>\n",
       "      <td>monday</td>\n",
       "    </tr>\n",
       "    <tr>\n",
       "      <th>3</th>\n",
       "      <td>A002</td>\n",
       "      <td>R051</td>\n",
       "      <td>02-00-00</td>\n",
       "      <td>59 ST</td>\n",
       "      <td>2021-06-01</td>\n",
       "      <td>7580178</td>\n",
       "      <td>2590917</td>\n",
       "      <td>585.0</td>\n",
       "      <td>276.0</td>\n",
       "      <td>7579593.0</td>\n",
       "      <td>2590641.0</td>\n",
       "      <td>861.0</td>\n",
       "      <td>june</td>\n",
       "      <td>tuesday</td>\n",
       "    </tr>\n",
       "    <tr>\n",
       "      <th>4</th>\n",
       "      <td>A002</td>\n",
       "      <td>R051</td>\n",
       "      <td>02-00-00</td>\n",
       "      <td>59 ST</td>\n",
       "      <td>2021-06-02</td>\n",
       "      <td>7580754</td>\n",
       "      <td>2591200</td>\n",
       "      <td>576.0</td>\n",
       "      <td>283.0</td>\n",
       "      <td>7580178.0</td>\n",
       "      <td>2590917.0</td>\n",
       "      <td>859.0</td>\n",
       "      <td>june</td>\n",
       "      <td>wednesday</td>\n",
       "    </tr>\n",
       "    <tr>\n",
       "      <th>5</th>\n",
       "      <td>A002</td>\n",
       "      <td>R051</td>\n",
       "      <td>02-00-00</td>\n",
       "      <td>59 ST</td>\n",
       "      <td>2021-06-03</td>\n",
       "      <td>7581328</td>\n",
       "      <td>2591445</td>\n",
       "      <td>574.0</td>\n",
       "      <td>245.0</td>\n",
       "      <td>7580754.0</td>\n",
       "      <td>2591200.0</td>\n",
       "      <td>819.0</td>\n",
       "      <td>june</td>\n",
       "      <td>thursday</td>\n",
       "    </tr>\n",
       "  </tbody>\n",
       "</table>\n",
       "</div>"
      ],
      "text/plain": [
       "    C/A  UNIT       SCP STATION       DATE  ENTRIES    EXITS  DAILY_ENTRIES  \\\n",
       "1  A002  R051  02-00-00   59 ST 2021-05-30  7579275  2590548          254.0   \n",
       "2  A002  R051  02-00-00   59 ST 2021-05-31  7579593  2590641          318.0   \n",
       "3  A002  R051  02-00-00   59 ST 2021-06-01  7580178  2590917          585.0   \n",
       "4  A002  R051  02-00-00   59 ST 2021-06-02  7580754  2591200          576.0   \n",
       "5  A002  R051  02-00-00   59 ST 2021-06-03  7581328  2591445          574.0   \n",
       "\n",
       "   DAILY_EXITS  PREV_ENTRIES  PREV_EXITS  DAILY_TRAFIC month day_of_week  \n",
       "1        109.0     7579021.0   2590439.0         363.0   may      sunday  \n",
       "2         93.0     7579275.0   2590548.0         411.0   may      monday  \n",
       "3        276.0     7579593.0   2590641.0         861.0  june     tuesday  \n",
       "4        283.0     7580178.0   2590917.0         859.0  june   wednesday  \n",
       "5        245.0     7580754.0   2591200.0         819.0  june    thursday  "
      ]
     },
     "execution_count": 30,
     "metadata": {},
     "output_type": "execute_result"
    }
   ],
   "source": [
    "df_daily.head()"
   ]
  },
  {
   "cell_type": "code",
   "execution_count": 31,
   "id": "e4e7dc2c",
   "metadata": {},
   "outputs": [
    {
     "data": {
      "text/plain": [
       "tuesday      64925\n",
       "monday       64924\n",
       "wednesday    64907\n",
       "thursday     64890\n",
       "sunday       64876\n",
       "saturday     64847\n",
       "friday       64826\n",
       "Name: day_of_week, dtype: int64"
      ]
     },
     "execution_count": 31,
     "metadata": {},
     "output_type": "execute_result"
    }
   ],
   "source": [
    "df_daily.day_of_week.value_counts()"
   ]
  },
  {
   "cell_type": "markdown",
   "id": "e48f8746",
   "metadata": {},
   "source": [
    "## Saving the dataset into csv file"
   ]
  },
  {
   "cell_type": "code",
   "execution_count": 32,
   "id": "4552dcef",
   "metadata": {},
   "outputs": [],
   "source": [
    "df_daily.to_csv('DAILY_TRAFIC.csv') "
   ]
  },
  {
   "cell_type": "markdown",
   "id": "2087ffaf",
   "metadata": {},
   "source": [
    "## Explatory Data Analysis"
   ]
  },
  {
   "cell_type": "code",
   "execution_count": 33,
   "id": "e0e1fd78",
   "metadata": {},
   "outputs": [],
   "source": [
    "# to see numbers on better format\n",
    "pd.set_option('float_format', '{:2f}'.format)"
   ]
  },
  {
   "cell_type": "code",
   "execution_count": 34,
   "id": "4d61226f",
   "metadata": {},
   "outputs": [],
   "source": [
    "# Group by to find trafic for Top 5 stations\n",
    "df_station = df_daily.groupby(['STATION']).DAILY_TRAFIC.sum().reset_index().sort_values(['DAILY_TRAFIC'],ascending=False).head()"
   ]
  },
  {
   "cell_type": "code",
   "execution_count": 35,
   "id": "dd871ca5",
   "metadata": {},
   "outputs": [],
   "source": [
    "# Group by to find trafic for Bottom 5 stations\n",
    "df_station_tail = df_daily.groupby(['STATION']).DAILY_TRAFIC.sum().reset_index().sort_values(['DAILY_TRAFIC'],ascending=False).tail()"
   ]
  },
  {
   "cell_type": "code",
   "execution_count": 36,
   "id": "cdfad4b0",
   "metadata": {},
   "outputs": [],
   "source": [
    "# Group by to find trafic for every station and Date\n",
    "df_station_day =  df_daily.groupby(['STATION','DATE']).DAILY_TRAFIC.sum().reset_index()"
   ]
  },
  {
   "cell_type": "code",
   "execution_count": 37,
   "id": "123a863c",
   "metadata": {},
   "outputs": [],
   "source": [
    "# Group by to find trafic for every station and control area\n",
    "df_CA_day =  df_daily.groupby(['STATION','C/A']).DAILY_TRAFIC.sum().reset_index().sort_values(['DAILY_TRAFIC'],ascending=False)"
   ]
  },
  {
   "cell_type": "code",
   "execution_count": 38,
   "id": "639c67d6",
   "metadata": {},
   "outputs": [],
   "source": [
    "# Group by to find the trafic for every unit ,station and control area\n",
    "df_unit = df_daily.groupby(['STATION','C/A','UNIT']).DAILY_TRAFIC.sum().reset_index().sort_values(['DAILY_TRAFIC'],ascending=False)"
   ]
  },
  {
   "cell_type": "code",
   "execution_count": 39,
   "id": "3c070709",
   "metadata": {},
   "outputs": [],
   "source": [
    "# Choose the top 1 station trafic\n",
    "df_unit = df_unit[df_unit[\"STATION\"] == '34 ST-PENN STA']"
   ]
  },
  {
   "cell_type": "code",
   "execution_count": 40,
   "id": "92c30768",
   "metadata": {},
   "outputs": [],
   "source": [
    "# Choose the top 1 station trafic\n",
    "df_CA_day = df_CA_day[df_CA_day[\"STATION\"] == '34 ST-PENN STA']"
   ]
  },
  {
   "cell_type": "code",
   "execution_count": 41,
   "id": "fd41f0f0",
   "metadata": {},
   "outputs": [],
   "source": [
    "# To find the top 5 stations\n",
    "x = df_station.STATION.tolist()"
   ]
  },
  {
   "cell_type": "code",
   "execution_count": 42,
   "id": "c3b0aae0",
   "metadata": {},
   "outputs": [],
   "source": [
    "# Filter the dataframe for top 5 stations\n",
    "boolean_series = df_station_day.STATION.isin(x)\n",
    "df_station_day = df_station_day[boolean_series]"
   ]
  },
  {
   "cell_type": "code",
   "execution_count": 51,
   "id": "f8461f9b",
   "metadata": {
    "scrolled": false
   },
   "outputs": [],
   "source": [
    "# drop the first day since it has a lot of missing entries for trafic\n",
    "df_station_day = df_station_day[ df_station_day['DATE'] != '2021-05-29']"
   ]
  },
  {
   "cell_type": "markdown",
   "id": "bb9f09b2",
   "metadata": {},
   "source": [
    "### Comparison between the top 5 Stations for 3 months."
   ]
  },
  {
   "cell_type": "code",
   "execution_count": 52,
   "id": "434a86e6",
   "metadata": {},
   "outputs": [
    {
     "data": {
      "image/png": "[encoded data removed]",
      "text/plain": [
       "<Figure size 1296x576 with 1 Axes>"
      ]
     },
     "metadata": {
      "needs_background": "light"
     },
     "output_type": "display_data"
    }
   ],
   "source": [
    "plt.figure(figsize = [18,8]);\n",
    "axx = sns.lineplot(data=df_station_day,x='DATE',y='DAILY_TRAFIC',hue='STATION', color=sns.color_palette()[0], ci=None,);\n",
    "plt.xlabel('Date', fontsize = '14');\n",
    "plt.ylabel('# of Raiders',  fontsize = '14');\n",
    "plt.title('# of Raiders against Date for the Top 5 Station',fontsize = '16');\n",
    "axx.xaxis.set_major_locator(mdates.DayLocator(interval=2))\n",
    "axx.yaxis.set_major_formatter(FormatStrFormatter('%.2i'))\n",
    "plt.xticks(rotation = 90, fontsize = '12');"
   ]
  },
  {
   "attachments": {},
   "cell_type": "markdown",
   "id": "faa0eb48",
   "metadata": {},
   "source": [
    "From here we can see that `34 ST-PENN STA` station was the busiest station but there are some interesting dates like the `2021-07-28` was the busiest day for the `FULTON ST` station it was the was the largest traffic between the 5 stations on a day. \n",
    "\n",
    "So i will recommend to advertising companies to put their ads on the days that have the highest traffic.\n"
   ]
  },
  {
   "cell_type": "markdown",
   "id": "54a0ec15",
   "metadata": {},
   "source": [
    "### Comparison between the top 5 stations and the bottom 5 stations."
   ]
  },
  {
   "cell_type": "code",
   "execution_count": 45,
   "id": "4a48a95d",
   "metadata": {},
   "outputs": [
    {
     "data": {
      "image/png": "[encoded data removed]",
      "text/plain": [
       "<Figure size 1440x576 with 2 Axes>"
      ]
     },
     "metadata": {
      "needs_background": "light"
     },
     "output_type": "display_data"
    }
   ],
   "source": [
    "fig, axes = plt.subplots(1, 2)\n",
    "fig.set_figwidth(20)\n",
    "fig.set_figheight(8)\n",
    "axes[0].set_title(\"# of Raiders VS Top 5 Station\",  fontsize = '16')\n",
    "axes[0].yaxis.set_major_formatter(FormatStrFormatter('%.2i'))\n",
    "sns.barplot(ax=axes[0],data=df_station,x='STATION',y='DAILY_TRAFIC',color=sns.color_palette()[2] ,ci=None);\n",
    "axes[1].set_title(\"# of Raiders VS Bottom 5 Station\",  fontsize = '16')\n",
    "axes[1].yaxis.set_major_formatter(FormatStrFormatter('%.2i'))\n",
    "axes[1] = sns.barplot(ax=axes[1],data=df_station_tail,x='STATION',y='DAILY_TRAFIC',color=sns.color_palette()[3], ci=None);\n",
    "ticks_y = np.linspace(0, 2500000,6)\n",
    "plt.yticks(ticks_y);\n",
    "plt.show()"
   ]
  },
  {
   "attachments": {},
   "cell_type": "markdown",
   "id": "60abfaf7",
   "metadata": {},
   "source": [
    "From here we can notice that there are a huge deference on traffic between them. like the station `86 ST` it has more traffic than the bottom 5 stations combined!. \n",
    "\n",
    "So i will recommend that the ads should focus on the busiest stations. "
   ]
  },
  {
   "cell_type": "markdown",
   "id": "2b596583",
   "metadata": {},
   "source": [
    "### Comparison between the Control Units and number of raiders."
   ]
  },
  {
   "cell_type": "code",
   "execution_count": 54,
   "id": "b7c00df7",
   "metadata": {},
   "outputs": [
    {
     "data": {
      "image/png": "[encoded data removed]",
      "text/plain": [
       "<Figure size 576x576 with 1 Axes>"
      ]
     },
     "metadata": {
      "needs_background": "light"
     },
     "output_type": "display_data"
    }
   ],
   "source": [
    "plt.figure(figsize = [8,8]);\n",
    "ax =sns.barplot(data=df_CA_day,x='C/A',y='DAILY_TRAFIC',color=sns.color_palette()[1] ,ci=None);\n",
    "plt.xlabel('Control Unit',  fontsize = '14');\n",
    "plt.ylabel('# of Raiders',  fontsize = '14');\n",
    "plt.title('# of Raiders vs Control Units on 34 ST-PENN STA station',  fontsize = '16');\n",
    "ax.yaxis.set_major_formatter(FormatStrFormatter('%.2i'))\n",
    "plt.xticks(rotation = 0);"
   ]
  },
  {
   "attachments": {},
   "cell_type": "markdown",
   "id": "bde2d465",
   "metadata": {},
   "source": [
    "From this graph we notice that even on control units there is a large difference on traffic for each control unit for example the control unit `R138` has more than triple raiders on the control unit `R135`.\n",
    "\n",
    "So i will recommend for advertisment company to put thier ads on the busiest control units."
   ]
  },
  {
   "cell_type": "markdown",
   "id": "abac0678",
   "metadata": {},
   "source": [
    "### Comparison between the Units and number of raiders."
   ]
  },
  {
   "cell_type": "code",
   "execution_count": 57,
   "id": "4d940d7a",
   "metadata": {},
   "outputs": [
    {
     "data": {
      "image/png": "[encoded data removed]",
      "text/plain": [
       "<Figure size 576x576 with 1 Axes>"
      ]
     },
     "metadata": {
      "needs_background": "light"
     },
     "output_type": "display_data"
    }
   ],
   "source": [
    "plt.figure(figsize = [8,8]);\n",
    "ax =sns.barplot(data=df_unit,x='UNIT',y='DAILY_TRAFIC',color=sns.color_palette()[0] ,ci=None);\n",
    "plt.xlabel('Control Unit',  fontsize = '14');\n",
    "plt.ylabel('# of Raiders',  fontsize = '14');\n",
    "plt.title('# of Raiders vs Units on 34 ST-PENN STA station',  fontsize = '16');\n",
    "ax.yaxis.set_major_formatter(FormatStrFormatter('%.2i'))\n",
    "plt.xticks(rotation = 0);"
   ]
  },
  {
   "attachments": {},
   "cell_type": "markdown",
   "id": "e41a7890",
   "metadata": {},
   "source": [
    "From this graph we notice that even on units there is a large deference on traffic for each unit for example the unit `R293` has more than double raiders on the unit `R035`.\n",
    "\n",
    "So i will recommend for advertisment company to put thier ads on the busiest units."
   ]
  },
  {
   "cell_type": "markdown",
   "id": "2d6168a8",
   "metadata": {},
   "source": [
    "## Conclusion "
   ]
  },
  {
   "cell_type": "markdown",
   "id": "3286ba0b",
   "metadata": {},
   "source": [
    "> This is a sample of how we can use the MTA data to improve your ads at the station on MTA subways... <br>\n",
    "here i have took the last 3 months for this analysis and i had some very intresting insights that may help your company to have better viewrs ads on the subways or even to better negotiate with the MTA to put your ads. \n",
    ">> The insights i have noticed: <br>\n",
    "▪ Found busy days for stations <br>\n",
    "▪ Comparison between the Top Stations and bottom stations and found there is a very large deffrence. <br>\n",
    "▪ Have better understand that where is the busiest Control Units <br> \n",
    "▪ Have better understand that where is the busiest Units <br> \n",
    "\n",
    "> For future work i think we will have better understanding for the people and what method to use for advertising when using analysis based on demographics and geographic data. "
   ]
  }
 ],
 "metadata": {
  "kernelspec": {
   "display_name": "Python 3",
   "language": "python",
   "name": "python3"
  },
  "language_info": {
   "codemirror_mode": {
    "name": "ipython",
    "version": 3
   },
   "file_extension": ".py",
   "mimetype": "text/x-python",
   "name": "python",
   "nbconvert_exporter": "python",
   "pygments_lexer": "ipython3",
   "version": "3.8.8"
  }
 },
 "nbformat": 4,
 "nbformat_minor": 5
}
